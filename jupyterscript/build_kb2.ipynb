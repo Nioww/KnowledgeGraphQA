{
 "cells": [
  {
   "cell_type": "code",
   "execution_count": 30,
   "id": "durable-spare",
   "metadata": {},
   "outputs": [],
   "source": [
    "import json\n",
    "import pickle\n",
    "import csv\n",
    "import re"
   ]
  },
  {
   "cell_type": "code",
   "execution_count": 31,
   "id": "honey-fortune",
   "metadata": {},
   "outputs": [],
   "source": [
    "#path = r'D:\\data_v2.json'\n",
    "path = r'D:\\new.json'\n",
    "f = open(path,encoding = 'utf-8')\n",
    "res = json.load(f)"
   ]
  },
  {
   "cell_type": "code",
   "execution_count": 32,
   "id": "bacterial-penalty",
   "metadata": {},
   "outputs": [
    {
     "data": {
      "text/plain": [
       "573"
      ]
     },
     "execution_count": 32,
     "metadata": {},
     "output_type": "execute_result"
    }
   ],
   "source": [
    "len(res)"
   ]
  },
  {
   "cell_type": "code",
   "execution_count": 33,
   "id": "opened-maximum",
   "metadata": {},
   "outputs": [
    {
     "name": "stdout",
     "output_type": "stream",
     "text": [
      "611\n",
      "['name', 'type', 'keywords', 'description', '中文名', '外文名', '我国时间划分', '挑战', '别名', '提出时间', '内容', '标志', '作用', 'hasPart', '性质', '属于', '提供', 'key_element', '类别', '功能', '原理', '定义', '应用学科', '发明时间', '发明者', '主要作用', '分类标准', '拼音', '属性', '特点', '起源地', '层次', '底层网应用', '中间层网应用', '主干网应用', '时间', '第一台计算机', 'LED设备', '释义', '历史意义', '使用领域', '拉丁语', '俄语', '韩语', '日语', '中文拼音', '法语', '应用层次', '数据格式', '工作', '服务', '发明人', '基本结构', '分类', '专利权', '组成', '领域', '介绍', '网络速度', '构成', '特性', '外形', '中文名称', '外文名称', '语言', '主管单位', '主办单位', '编辑单位', '创刊时间', '出版周期', '国内刊号', '国际刊号', '现任主编', '编辑部地址', '别称', '声电转换', '语音编码', '简写', '诞生年代', '外语缩写', '地址格式', '起源', '开创时间', '互联网域名', '使用方式', '根据', '优点是', '连接方式', '英文缩写', '含义', '基本组成', '交换缺点', '路由选择', '协议', '网站名称', '英文名称', '类型', '用于', '说明', '开发商', '口号', '应用类别', '开发语言', '汉语拼音', '注音', '所属垂类', '范围', '硬件', '组成部分', '传输手段', '同步方式', '相关学科', '具体', '概念', '公司名称', '成立时间', '总部地点', '经营范围', '公司类型', '公司口号', '年营业额', '员工数', '用户总数', '服务热线', '注册资本', '知名品牌', '董事长', '世界五百强', '官网', '公司原名', '对应项', '示例', '应用', 'R', 'A', 'S', '全称', '外语简称', '包括', '创建者', '学科', '表示法', '简称', '举例', '方式', '认证方式', '报文交换', '用途', '缺点', '优点', '重量', '品牌类别', '操作系统', '所属行业', '法定代表人', '世界500强', '总经理', '服务电话', '利润', '构造', '设备', '工作原理', '需要', '任务', '英文简称', '常见系统', '特征', '基本类型', '体系结构', '术语归类', '结构', '网状网', '所属', '接口类型', '技术指标', '单位', '包含名词', '所属学科', '相关出处', '传输速度', '成立日期', '机构隶属', '机构性质', '使用', '具有', '掌握', '原理算法', 'IT释义', '意义', '代表游戏', '上市市场', '核心价值观', '总裁', '实质', '形式', '用户评价', '支付形式', '传输速率', '接口方式', '发源', '创建时间', '单帖字数', '定位', '初提时间', '解释', '关键', '构成要素', '关联对象', '平台', '关键词', '表达式', '提出者', '适用领域', '基础', '运用', '概念一', '概念二', '横轴', '纵轴', '缩写', '实现条件', '数量', 'MAC帧数据', 'MAC帧尾', '危害', '证实者', '拓扑结构', '分层', '编码传输方式', '中文读音', '软件', '形状', '目的', '方法', '解决问题', '基本功能', '控制', '覆盖范围', '多址联接方式', '读音', '部首', '五笔', '仓颉', '笔顺编号', '四角号码', '报文', '报文段', '制造时间', '反映了', '通过', '种类数', '构成材料', '又称', '种类', 'A类网络', '界定', '子网掩码', '对应网络地址', '逻辑电平', '层数', '对象', '相关概念', '应用领域', '状态表示', '意思', '速率单位', '每秒传送量', '网络', '概述', '分为', '物理学', '分类1', '分类2', '体系', '逆过程', '或称', '俗称', '基本方式', '公式', '表示', '公布时间', '繁体', '主要特性', '三要素', '采取措施', '分布归属', '英译', '抑制方法', '科目类别', '基本定义', '适用领域范围', '频率单位', '物质形式', '常见材料', '最大加工电流', '最大加工速度', '电极消耗度', '指在', '传播', '创造时间', '频率范围', '波长范围', '微波类型', '未来发展', '波长', '结果', '频段', '波段', '计算公式', '带宽', '本质', '所属系统', '原料', '创建时期', '效果', '电力', '通讯', '金融证券', '开始年代', '操作', '信号转换器', '传输媒介', 'OSI参考对应', '实际', 'FCC释义', '技术', '标准', '需要设备', '取值', '涉及领域', '所属技术', '相关协议', '所属领域', '传输系统', '传输网络', '地位', '两种传输技术', '转义字符', '要求', '功效', '应用范围', '地点', '类属', '“快速”', '外文别名', '基于', '使用对象', '问世时间', '位置', '所属类别', '称作', '表现形式', '也会对', '运行工作', '记作', '制造设备', '来源', '带宽范围', '连接方法', '直接影响', '编码效率', '涉及技术', '代表性特色', '注意事项', '常见设备', '易混淆设备', '类别分类', '域名选择', '著名黑客', '起始年代', '也叫', '可信时间戳', '函数中', '安全', '管理', '奖项性质', '创办时间', '评选机构', '奖励对象', '安全设置', '通常用IP表示', '有类别地址类', '关系', '节点', '实现', '应用概述', '过程', '流量工程', '展望', '中文缩写', '区别', '起因', '解决办法', '也指', '后果', '概念提出人', '发展原因', '数据模式', '计算类型', '域名后缀', '遵循', '顶级域名', '域名作用', 'IPv4数量', 'IPv6数量', '设立时间', '对应词', '常见类别', '并列', '做法', '例如', '需要的情况', '其他定向', '内容区分', '超链分类', '性能指标', '创建方', '系统可靠性', '支持技术', '常见格式', '读作', '用法', '相关', '密码学中解释', '古语解释', '基本原理', '邮发代号', '检测', '模式', '主要参数', '常见激活方式', '职责', '岗位性质', '权利', '密钥通道', '理论分类', '依靠性质', '信息载体', 'RSVP设计目标', '主体', '表现', '传染途径', '传播方式', '组网方式', '主要特征', '出现时间', '技术原理', '存在缺陷', '提出人', '有关术语', '组成结构', '核心', '学科支持', '相关法律', '兴起时间', '首要环节', '代表', '关键技术', '工作层', '适用浏览器', '主要业务', '端口', '顺序', '使用电路', '其他技术', '适用', '频率准确度', '射率输出阻抗', '英文简写', '外文缩写', '版本', '适用范围', '制定', '主要机构', '也称', '简介', '发展趋势', '同时传输', '数据传输率', '间隔', '地区', '所属技术类型', '依据', '方法构成', '业务支持', '项目团队', '项目环境', '项目周期', '项目意义', '补充', '下传速率', '上传速率', '技术难点', '灵敏度', '行业', '工作模式', '支持', '核心实践技术', '服务范围', '用处', '符号', '核心思想', '发表时间', '词性', '短语搭配', '主要组件数', '扩写', '相关工作', '主要职责', '技术类别', '常见形式', '时延记为', '解决', '创始人', '现任CEO', '存储原理', '单元结构', '相对于', '技术特点', '协议族', '归属', '地址长度', '获得方法', '适合对象', '可用于', '私网IP', '公网IP', '默认端口', '传输文件类型', '使用者', '隶属', '操作方法', '负责', '制定时间', '制定者', '寓意', '系统', '协议称为', '传统', '中文译名', '协议支持', '词语分类', '攻击性质', '标签结构', '所属协议', '工作进程', '实现方式', '基本形式', '开闭环区别', '提出', '权威定义', '定义者', '相关机制', '使用的数据报', '设计原则', '网络层次', '规范定义', '消息端', '从属', '阅读方式', '文件扩展名', '实现方法', '目标', '复数形式', '其他称呼', '是否区分大小写', '开发公司', '相关网络', '代表应用', '外国语简称', '成立', '成立地点', '出处', '主测试器', '接收器', '测试电缆类型', 'zip软盘容量', '文件格式', '限制', '包含', '适用对象', '归类', '发行时间', '后代', '常用版本', '收购公司', '国家', '借助', '攻击者', '主要过程', '描述领域', '主要目的', '概念理解', '外国语缩写', '主要功能', '技术标准', '升级版', '速率', '推出年代', '提供服务', '发布机构', '发布时间', '服务模型', '业务分类', '设计', '学科归属', '报文格式', '国内研究团队', '国外研究团队', '用户体验速率', '峰值速率']\n"
     ]
    }
   ],
   "source": [
    "type_dict = []\n",
    "for i in res:\n",
    "    for k in i.keys():\n",
    "        if k not in type_dict:\n",
    "            type_dict.append(k)\n",
    "print(len(type_dict))\n",
    "print(type_dict)"
   ]
  },
  {
   "cell_type": "code",
   "execution_count": 34,
   "id": "opened-battle",
   "metadata": {},
   "outputs": [],
   "source": [
    "#构造词典\n",
    "#type_dic = []\n",
    "#entity_dic = []\n",
    "#for i in res:\n",
    "#    if i['type'] not in type_dic:\n",
    "#        type_dic.append(i['type'])\n",
    "#    if i['name'] not in entity_dic:\n",
    "#        entity_dic.append(i['name'])"
   ]
  },
  {
   "cell_type": "code",
   "execution_count": 35,
   "id": "paperback-bibliography",
   "metadata": {},
   "outputs": [
    {
     "name": "stdout",
     "output_type": "stream",
     "text": [
      "{'name': '信息时代', 'type': '概念', 'keywords': ['信息时代 信息时代信息时代 信息时代时代简史 信息时代垄断产生 信息时代全球化 信息时代新科技 信息时代奇迹创造'], 'description': ['欧美及发达国家的时间跨度概念是从公元后1969年(1969AD)-2017，我国及部分发展中国家的信息时代指的是从公元后1984年(1984AD)-未来，比欧美晚了15年。人们常用最具代表性的生产工具来代表一个历史时期，人类文明的发展时代历程：如石器时代，红铜时代，青铜时代，铁器时代，蒸汽时代、电气时代、原子时代等。用这种思维模式来纵观20世纪，你会说，在近100年里，人类从原子时代走向了信息时代。...'], '中文名': ['信息时代'], '外文名': ['InformationAge'], '我国时间划分': ['公元后1984年(1984AD)-未来'], '挑战': ['对人们学习知识掌握知识提出挑战']}\n"
     ]
    }
   ],
   "source": [
    "print(res[0])"
   ]
  },
  {
   "cell_type": "code",
   "execution_count": 36,
   "id": "presidential-lesson",
   "metadata": {},
   "outputs": [],
   "source": [
    "csvf = open(r'D:\\node.csv','w',newline='',encoding = 'utf-8')\n",
    "w = csv.writer(csvf)\n",
    "w.writerow((\"id:ID\",\"name\",\":LABEL\"))\n",
    "idx = 0\n",
    "entity_dic = {}\n",
    "#entity_dic_true = {}\n",
    "for i in range(len(res)):\n",
    "    res[i]['name'] = re.sub(r'\\（.*$','', res[i]['name'])\n",
    "    if res[i]['name'] not in entity_dic.keys():\n",
    "        entity_dic[res[i]['name']] = (idx,res[i]['type'])\n",
    "        #entity_dic_true[res[i]['name']] = idx\n",
    "        w.writerow((idx,res[i]['name'],'Entity'))\n",
    "        idx+=1\n",
    "    if 'hasPart' in res[i].keys():\n",
    "        for rela in res[i]['hasPart']:\n",
    "            rela['name'] = re.sub(r'\\（.*$','', rela['name'])\n",
    "            if rela['name'] not in entity_dic.keys():\n",
    "                entity_dic[rela['name']] = (idx,rela['type'])\n",
    "                #entity_dic_true[rela['name']] = idx\n",
    "                w.writerow((idx,rela['name'],'Entity'))\n",
    "                idx+=1\n",
    "    for k in res[i].keys():\n",
    "        if (k == 'name')|(k == 'type')|(k == 'keywords')|(k == 'keywords')|(k == 'key_element')|(k == 'hasPart'):\n",
    "            continue\n",
    "        elif k == 'description':\n",
    "            res[i][k][0] = re.sub(r'\\（.*$','', res[i][k][0])\n",
    "            if res[i][k][0] not in entity_dic.keys():\n",
    "                entity_dic[res[i][k][0]] = (idx,'描述')\n",
    "                w.writerow((idx,res[i][k][0],'Entity'))\n",
    "                idx+=1\n",
    "        else:\n",
    "            if res[i][k][0] == '\\\"\\\"':\n",
    "                continue\n",
    "            else:\n",
    "                res[i][k][0] = re.sub(r'\\（.*$','', res[i][k][0])\n",
    "                if res[i][k][0] not in entity_dic.keys():\n",
    "                    entity_dic[res[i][k][0]] = (idx,k)\n",
    "                    w.writerow((idx,res[i][k][0],'Entity'))\n",
    "                    idx+=1\n",
    "csvf.close()"
   ]
  },
  {
   "cell_type": "code",
   "execution_count": 37,
   "id": "corresponding-turkey",
   "metadata": {},
   "outputs": [
    {
     "name": "stdout",
     "output_type": "stream",
     "text": [
      "2710\n"
     ]
    }
   ],
   "source": [
    "print(len(entity_dic))"
   ]
  },
  {
   "cell_type": "code",
   "execution_count": 38,
   "id": "studied-handling",
   "metadata": {},
   "outputs": [
    {
     "name": "stdout",
     "output_type": "stream",
     "text": [
      "计算机网络是指将地理位置不同的具有独立功能的多台计算机及其外部设备，通过通信线路连接起来，在网络操作系统，网络管理软件及网络通信协议的管理和协调下，实现资源共享和信息传递的计算机系统。... 87 描述\n",
      "计算机网络 56 中文名\n",
      "互联网 50 使用领域\n",
      "信息的传输与共享 88 功能\n",
      "网络操作系统 89 类别\n"
     ]
    }
   ],
   "source": [
    "csvf = open(r'D:\\relation.csv','w',newline='',encoding = 'utf-8')\n",
    "w = csv.writer(csvf)\n",
    "w.writerow((\":START_ID\",\":END_ID\",\":TYPE\",\"name\"))\n",
    "#idx = 0\n",
    "#entity_dic = {}\n",
    "for i in range(len(res)):\n",
    "    #print(i)\n",
    "    if 'hasPart' in res[i].keys():\n",
    "        for rela in res[i]['hasPart']:\n",
    "            if rela['type'] == '概念':\n",
    "                continue\n",
    "            else:\n",
    "                w.writerow((entity_dic[res[i]['name']][0],entity_dic[rela['name']][0],'hasPart',rela['type']))\n",
    "    for k in res[i].keys():\n",
    "        if (k == 'name')|(k == 'type')|(k == 'keywords')|(k == 'keywords')|(k == 'key_element')|(k == 'hasPart'):\n",
    "            continue\n",
    "        elif k == 'description':\n",
    "            w.writerow((entity_dic[res[i]['name']][0],entity_dic[res[i][k][0]][0],'hasPart','描述'))\n",
    "            if res[i]['name'] == '计算机网络':\n",
    "                print(res[i][k][0],entity_dic[res[i][k][0]][0],'描述')\n",
    "        else:\n",
    "            if res[i][k][0] == '\\\"\\\"':\n",
    "                continue\n",
    "            else:\n",
    "                w.writerow((entity_dic[res[i]['name']][0],entity_dic[res[i][k][0]][0],'hasPart',k))\n",
    "                if res[i]['name'] == '计算机网络':\n",
    "                    print(res[i][k][0],entity_dic[res[i][k][0]][0],k)\n",
    "csvf.close()"
   ]
  },
  {
   "cell_type": "code",
   "execution_count": 12,
   "id": "selective-judgment",
   "metadata": {},
   "outputs": [],
   "source": [
    "pickle.dump(dic,open(r'D:\\dic.pkl','wb'))"
   ]
  },
  {
   "cell_type": "code",
   "execution_count": null,
   "id": "elementary-operations",
   "metadata": {},
   "outputs": [],
   "source": [
    "f = 'type'\n",
    "if (f == 'name')|(f =='type')|(f =='keyword'):\n",
    "    print(1)"
   ]
  },
  {
   "cell_type": "code",
   "execution_count": 19,
   "id": "behavioral-sessions",
   "metadata": {},
   "outputs": [
    {
     "name": "stdout",
     "output_type": "stream",
     "text": [
      "\"\"\n"
     ]
    }
   ],
   "source": [
    "f = '\\\"\\\"'\n",
    "print(f)"
   ]
  },
  {
   "cell_type": "code",
   "execution_count": 11,
   "id": "laden-cookbook",
   "metadata": {},
   "outputs": [
    {
     "name": "stdout",
     "output_type": "stream",
     "text": [
      "接口\n",
      "网卡\n",
      "分组交换\n",
      "传输时延\n",
      "应用层协议\n",
      "应用层\n",
      "对称电缆\n",
      "调制解调器\n",
      "TCP\n",
      "奈氏准则\n",
      "复用\n",
      "复用器\n",
      "分用器\n",
      "网络传输技术\n",
      "FTTx\n",
      "交换机\n",
      "十六进制编码\n",
      "字符填充\n",
      "可靠传输\n",
      "MAC地址\n",
      "吉比特以太网\n",
      "中央处理器\n",
      "互联网\n",
      "最长前缀匹配\n",
      "拥塞控制\n",
      "LSP\n",
      "缓存\n",
      "搜索引擎\n",
      "网络文件系统\n",
      "防火墙\n"
     ]
    }
   ],
   "source": [
    "dic = []\n",
    "for i in res:\n",
    "    if i['name'] not in dic:\n",
    "        dic.append(i['name'])\n",
    "    else:\n",
    "        print(i['name'])"
   ]
  },
  {
   "cell_type": "code",
   "execution_count": 12,
   "id": "suspected-emerald",
   "metadata": {},
   "outputs": [
    {
     "data": {
      "text/plain": [
       "543"
      ]
     },
     "execution_count": 12,
     "metadata": {},
     "output_type": "execute_result"
    }
   ],
   "source": [
    "len(dic)"
   ]
  },
  {
   "cell_type": "code",
   "execution_count": 36,
   "id": "controlled-springer",
   "metadata": {},
   "outputs": [
    {
     "data": {
      "text/plain": [
       "573"
      ]
     },
     "execution_count": 36,
     "metadata": {},
     "output_type": "execute_result"
    }
   ],
   "source": [
    "len(res)"
   ]
  },
  {
   "cell_type": "code",
   "execution_count": null,
   "id": "informative-india",
   "metadata": {},
   "outputs": [],
   "source": [
    "{\"name\": \"网卡\", \"type\": \"设备\", \"keywords\": [\"网卡 网络控制器 网络适配卡 网络接口卡 网络适配器 网卡简介 网卡主要功能 网卡属性设置 网卡网卡驱动 网卡分类 双网卡切换 互联网卡 有线网卡 无线网卡 虚拟网卡 网卡故障及解决方法\"], \"description\": [\"网卡是一块被设计用来允许计算机在计算机网络上进行通讯的计算机硬件。由于其拥有MAC地址，因此属于OSI模型的第1层和2层之间。它使得用户可以通过电缆或无线相互连接。每一个网卡都有一个被称为MAC地址的独一无二的48位串行号，它被写在卡上的一块ROM中。在网络上的每一个计算机都必须拥有一个独一无二的MAC地址。没有任何两块被生产出来的网卡拥有同样的地址。这是因为电气电子工程师协会（IEEE）负责为网络接口控制器（网卡）销售商分配唯一的MAC地址。...\"], \"中文名\": [\"网卡\"], \"外文名\": [\"networkinterfacecard\"], \"别名\": [\"网络适配器\"], \"作用\": [\"连接计算机与外界局域网\"], \"hasPart\": [{\"type\": \"设备\", \"name\": \"计算机\"}, {\"type\": \"概念\", \"name\": \"计算机网络（连接分散计算机设备以实现信息传递的系统）\"}, {\"type\": \"概念\", \"name\": \"网络（由节点和连线构成的图）\"}, {\"type\": \"概念\", \"name\": \"硬件\"}, {\"type\": \"设备\", \"name\": \"接口（汉语词汇）\"}, {\"type\": \"设备\", \"name\": \"电缆\"}, {\"type\": \"设备\", \"name\": \"网卡\"}, {\"type\": \"设备\", \"name\": \"接口（硬件接口）\"}, {\"type\": \"地址\", \"name\": \"MAC地址\"}, {\"type\": \"地址\", \"name\": \"MAC地址\"}], \"key_element\": [{\"type\": \"概念\", \"name\": \"网络（由节点和连线构成的图）\"}, {\"type\": \"概念\", \"name\": \"互联网（国际网络）\"}, {\"type\": \"设备\", \"name\": \"接口（汉语词汇）\"}, {\"type\": \"设备\", \"name\": \"网卡\"}, {\"type\": \"设备\", \"na\n",
    "{\"name\": \"网卡\", \"type\": \"设备\", \"keywords\": [\"网卡 网络控制器 网络适配卡 网络接口卡 网络适配器 网卡简介 网卡主要功能 网卡属性设置 网卡网卡驱动 网卡分类 双网卡切换 互联网卡 有线网卡 无线网卡 虚拟网卡 网卡故障及解决方法\"], \"description\": [\"网卡是一块被设计用来允许计算机在计算机网络上进行通讯的计算机硬件。由于其拥有MAC地址，因此属于OSI模型的第1层和2层之间。它使得用户可以通过电缆或无线相互连接。每一个网卡都有一个被称为MAC地址的独一无二的48位串行号，它被写在卡上的一块ROM中。在网络上的每一个计算机都必须拥有一个独一无二的MAC地址。没有任何两块被生产出来的网卡拥有同样的地址。这是因为电气电子工程师协会（IEEE）负责为网络接口控制器（网卡）销售商分配唯一的MAC地址。...\"], \"中文名\": [\"网卡\"], \"外文名\": [\"networkinterfacecard\"], \"别名\": [\"网络适配器\"], \"作用\": [\"连接计算机与外界局域网\"], \"hasPart\": [{\"type\": \"设备\", \"name\": \"计算机\"}, {\"type\": \"概念\", \"name\": \"计算机网络（连接分散计算机设备以实现信息传递的系统）\"}, {\"type\": \"概念\", \"name\": \"网络（由节点和连线构成的图）\"}, {\"type\": \"概念\", \"name\": \"硬件\"}, {\"type\": \"设备\", \"name\": \"接口（汉语词汇）\"}, {\"type\": \"设备\", \"name\": \"电缆\"}, {\"type\": \"设备\", \"name\": \"网卡\"}, {\"type\": \"设备\", \"name\": \"接口（硬件接口）\"}, {\"type\": \"地址\", \"name\": \"MAC地址\"}, {\"type\": \"地址\", \"name\": \"MAC地址\"}], \"key_element\": [{\"type\": \"概念\", \"name\": \"网络（由节点和连线构成的图）\"}, {\"type\": \"概念\", \"name\": \"互联网（国际网络）\"}, {\"type\": \"设备\", \"name\": \"接口（汉语词汇）\"}, {\"type\": \"设备\", \"name\": \"网卡\"}, {\"type\": \"设备\", \"na"
   ]
  },
  {
   "cell_type": "code",
   "execution_count": 21,
   "id": "grave-allergy",
   "metadata": {},
   "outputs": [
    {
     "data": {
      "text/plain": [
       "'互联网'"
      ]
     },
     "execution_count": 21,
     "metadata": {},
     "output_type": "execute_result"
    }
   ],
   "source": [
    "import re\n",
    "data = '互联网（国际网络）'\n",
    "pattern = re.sub(r'\\（.*$','', data)\n",
    "pattern"
   ]
  },
  {
   "cell_type": "code",
   "execution_count": 19,
   "id": "excess-infrastructure",
   "metadata": {},
   "outputs": [
    {
     "name": "stdout",
     "output_type": "stream",
     "text": [
      "电话号码是:  2004-959-559 \n"
     ]
    }
   ],
   "source": [
    "import re\n",
    " \n",
    "phone = \"2004-959-559 ( 这是一个国外电话号码\"\n",
    " \n",
    "# 删除字符串中的 Python注释 \n",
    "num = re.sub(r'\\(.*$', \"\", phone)\n",
    "print (\"电话号码是: \", num)"
   ]
  },
  {
   "cell_type": "code",
   "execution_count": null,
   "id": "manufactured-flower",
   "metadata": {},
   "outputs": [],
   "source": []
  }
 ],
 "metadata": {
  "kernelspec": {
   "display_name": "Python 3",
   "language": "python",
   "name": "python3"
  },
  "language_info": {
   "codemirror_mode": {
    "name": "ipython",
    "version": 3
   },
   "file_extension": ".py",
   "mimetype": "text/x-python",
   "name": "python",
   "nbconvert_exporter": "python",
   "pygments_lexer": "ipython3",
   "version": "3.7.6"
  }
 },
 "nbformat": 4,
 "nbformat_minor": 5
}
