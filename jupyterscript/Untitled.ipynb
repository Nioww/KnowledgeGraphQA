{
 "cells": [
  {
   "cell_type": "code",
   "execution_count": 1,
   "metadata": {},
   "outputs": [
    {
     "name": "stderr",
     "output_type": "stream",
     "text": [
      "D:\\Anaconda3\\envs\\tensorflow\\lib\\site-packages\\numpy\\_distributor_init.py:32: UserWarning: loaded more than 1 DLL from .libs:\n",
      "D:\\Anaconda3\\envs\\tensorflow\\lib\\site-packages\\numpy\\.libs\\libopenblas.PYQHXLVVQ7VESDPUVUADXEVJOBGHJPAY.gfortran-win_amd64.dll\n",
      "D:\\Anaconda3\\envs\\tensorflow\\lib\\site-packages\\numpy\\.libs\\libopenblas.WCDJNK7YVMPZQ2ME2ZZHJJRJ3JIKNDB7.gfortran-win_amd64.dll\n",
      "  stacklevel=1)\n"
     ]
    }
   ],
   "source": [
    "import numpy as np\n",
    "import os\n",
    "from keras_bert import extract_embeddings\n",
    "from keras_bert import load_trained_model_from_checkpoint\n",
    "import codecs\n",
    "from keras_bert import Tokenizer\n",
    "from keras.models import Sequential\n",
    "from keras.layers import Embedding, Bidirectional, LSTM, TimeDistributed,Dense\n",
    "from keras_contrib.layers import CRF\n",
    "from keras.callbacks import Callback\n",
    "from sklearn.metrics import confusion_matrix, f1_score, precision_score, recall_score\n"
   ]
  },
  {
   "cell_type": "code",
   "execution_count": 2,
   "metadata": {},
   "outputs": [],
   "source": [
    "pretrained_path = r'C:\\Users\\HashiriNio\\Desktop\\chinese_L-12_H-768_A-12'\n",
    "vocab_path = os.path.join(pretrained_path, 'vocab.txt')"
   ]
  },
  {
   "cell_type": "code",
   "execution_count": 3,
   "metadata": {},
   "outputs": [],
   "source": [
    "token_dict = {}\n",
    "with codecs.open(vocab_path, 'r', 'utf8') as reader:\n",
    "    for line in reader:\n",
    "        token = line.strip()\n",
    "        token_dict[token] = len(token_dict)\n",
    "tokenizer = Tokenizer(token_dict)\n"
   ]
  },
  {
   "cell_type": "code",
   "execution_count": 4,
   "metadata": {},
   "outputs": [
    {
     "data": {
      "text/plain": [
       "<keras_bert.tokenizer.Tokenizer at 0x17fbb95eb48>"
      ]
     },
     "execution_count": 4,
     "metadata": {},
     "output_type": "execute_result"
    }
   ],
   "source": [
    "tokenizer"
   ]
  },
  {
   "cell_type": "code",
   "execution_count": 13,
   "metadata": {},
   "outputs": [
    {
     "name": "stdout",
     "output_type": "stream",
     "text": [
      "今天天气不错\n",
      "['[CLS]', '今', '天', '天', '气', '不', '错', '[SEP]']\n"
     ]
    },
    {
     "data": {
      "text/plain": [
       "8"
      ]
     },
     "execution_count": 13,
     "metadata": {},
     "output_type": "execute_result"
    }
   ],
   "source": [
    "k = u'今天天气不错'\n",
    "print(k)\n",
    "print(tokenizer.tokenize(k))\n",
    "len(tokenizer.tokenize(k))"
   ]
  },
  {
   "cell_type": "code",
   "execution_count": 14,
   "metadata": {},
   "outputs": [
    {
     "data": {
      "text/plain": [
       "([101, 791, 1921, 1921, 3698, 679, 7231, 102], [0, 0, 0, 0, 0, 0, 0, 0])"
      ]
     },
     "execution_count": 14,
     "metadata": {},
     "output_type": "execute_result"
    }
   ],
   "source": [
    "m = tokenizer.encode(k)\n",
    "m"
   ]
  },
  {
   "cell_type": "code",
   "execution_count": 23,
   "metadata": {},
   "outputs": [
    {
     "data": {
      "text/plain": [
       "[array([[-0.20949578,  0.35763574,  0.2187745 , ..., -0.44123247,\n",
       "          0.40954712, -0.16959727],\n",
       "        [-0.39730108,  0.3595864 ,  0.7869632 , ..., -1.0404785 ,\n",
       "         -0.18700925, -0.14304629],\n",
       "        [ 0.30380797, -0.46497598, -0.37152717, ...,  0.279225  ,\n",
       "          0.847181  ,  0.05655473],\n",
       "        ...,\n",
       "        [-0.00813074, -0.54151684,  0.14697513, ...,  0.2395784 ,\n",
       "          0.56322974,  0.42253613],\n",
       "        [ 0.45953882, -0.20653027, -0.24644303, ...,  0.29188997,\n",
       "          0.3794209 , -0.24238811],\n",
       "        [-0.24372426,  0.6584053 ,  0.24666762, ..., -0.39689454,\n",
       "          0.4990115 , -0.35274988]], dtype=float32),\n",
       " array([[-0.29234242,  0.6728995 ,  0.4441258 , ..., -0.18001497,\n",
       "          0.13055347, -0.17569931],\n",
       "        [-0.23028448,  0.61829716,  0.8896191 , ..., -0.61944664,\n",
       "         -0.20814475, -0.15989374],\n",
       "        [ 0.17960723, -0.42070302, -0.33751702, ...,  0.4016683 ,\n",
       "          0.6423189 ,  0.22155634],\n",
       "        ...,\n",
       "        [-0.10231346, -0.45327905,  0.1543388 , ...,  0.37357095,\n",
       "          0.603004  ,  0.38814422],\n",
       "        [ 0.20954485, -0.0990999 , -0.3565618 , ...,  0.5394348 ,\n",
       "          0.3146354 , -0.1883768 ],\n",
       "        [-0.37645662,  0.7130875 , -0.03133293, ..., -0.01716647,\n",
       "          0.34406108, -0.24349801]], dtype=float32),\n",
       " array([[-0.23162864,  0.17717032,  0.13400447, ..., -0.4146603 ,\n",
       "          0.44310915, -0.44729313],\n",
       "        [-0.43284786,  0.04912048,  0.48343852, ..., -0.80145574,\n",
       "         -0.30207884,  0.2508946 ],\n",
       "        [-0.08550695, -0.9973827 , -0.20651674, ...,  0.9586626 ,\n",
       "          0.9872192 ,  0.12281377],\n",
       "        ...,\n",
       "        [-0.00967354, -0.49618277, -0.10635734, ...,  1.0306125 ,\n",
       "          0.5605306 ,  0.16568625],\n",
       "        [ 0.49239808, -0.15048636, -0.4947168 , ...,  0.6278539 ,\n",
       "          0.4648978 , -0.43367597],\n",
       "        [-0.6561794 ,  0.32526517,  0.08983267, ..., -0.30557296,\n",
       "          0.6980814 , -0.34602547]], dtype=float32)]"
      ]
     },
     "execution_count": 23,
     "metadata": {},
     "output_type": "execute_result"
    }
   ],
   "source": [
    "\n",
    "x = extract_embeddings(pretrained_path, sentence)\n",
    "x"
   ]
  },
  {
   "cell_type": "code",
   "execution_count": 22,
   "metadata": {},
   "outputs": [
    {
     "data": {
      "text/plain": [
       "['今天天气不错', '昨天天气不错', '明天天气不错']"
      ]
     },
     "execution_count": 22,
     "metadata": {},
     "output_type": "execute_result"
    }
   ],
   "source": [
    "b = u'昨天天气不错'\n",
    "c = u'明天天气不错'\n",
    "sentence = [k,b,c]\n",
    "sentence"
   ]
  },
  {
   "cell_type": "code",
   "execution_count": 26,
   "metadata": {},
   "outputs": [
    {
     "data": {
      "text/plain": [
       "(3, 8, 768)"
      ]
     },
     "execution_count": 26,
     "metadata": {},
     "output_type": "execute_result"
    }
   ],
   "source": [
    "np.array(x).shape"
   ]
  },
  {
   "cell_type": "code",
   "execution_count": null,
   "metadata": {},
   "outputs": [],
   "source": []
  }
 ],
 "metadata": {
  "kernelspec": {
   "display_name": "Python 3",
   "language": "python",
   "name": "python3"
  },
  "language_info": {
   "codemirror_mode": {
    "name": "ipython",
    "version": 3
   },
   "file_extension": ".py",
   "mimetype": "text/x-python",
   "name": "python",
   "nbconvert_exporter": "python",
   "pygments_lexer": "ipython3",
   "version": "3.7.7"
  }
 },
 "nbformat": 4,
 "nbformat_minor": 4
}
