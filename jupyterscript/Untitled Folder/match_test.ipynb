{
 "cells": [
  {
   "cell_type": "code",
   "execution_count": 1,
   "id": "eastern-separate",
   "metadata": {},
   "outputs": [],
   "source": [
    "import numpy as np\n",
    "import pandas as pd\n",
    "import pickle\n",
    "from keras_bert import load_trained_model_from_checkpoint, Tokenizer,get_custom_objects\n",
    "import codecs\n",
    "from keras.layers import Input,Dense\n",
    "from keras.models import Model,load_model\n",
    "from keras.optimizers import Adam"
   ]
  },
  {
   "cell_type": "code",
   "execution_count": 2,
   "id": "thorough-configuration",
   "metadata": {},
   "outputs": [],
   "source": [
    "max_seq_len = 20\n",
    "config_path = r'D:\\final_design\\Final_one\\bert\\bert_config.json'\n",
    "checkpoint_path = r'D:\\final_design\\Final_one\\bert\\bert_model.ckpt'\n",
    "dict_path = r'D:\\final_design\\Final_one\\bert\\vocab.txt'\n",
    "\n",
    "corpus_path = r'C:\\Users\\HashiriNio\\Desktop\\lcqmc-NLP\\lcqmc_train.tsv'"
   ]
  },
  {
   "cell_type": "code",
   "execution_count": 3,
   "id": "champion-transmission",
   "metadata": {},
   "outputs": [],
   "source": [
    "token_dict = {}\n",
    "with codecs.open(dict_path, 'r', 'utf8') as reader:\n",
    "    for line in reader:\n",
    "        token = line.strip()\n",
    "        token_dict[token] = len(token_dict)\n",
    "tokenizer = Tokenizer(token_dict)"
   ]
  },
  {
   "cell_type": "code",
   "execution_count": 4,
   "id": "textile-saturn",
   "metadata": {},
   "outputs": [],
   "source": [
    "def get_tokens(seq1,seq2):\n",
    "    X1_1,X1_2,X2_1,X2_2 = [] ,[],[],[]\n",
    "    for i in range(len(seq1)):\n",
    "        x1_1,x1_2 = tokenizer.encode(first = seq1[i],max_len = max_seq_len)\n",
    "        x2_1,x2_2 = tokenizer.encode(first = seq2[i],max_len = max_seq_len)\n",
    "        X1_1.append(x1_1)\n",
    "        X1_2.append(x1_2)\n",
    "        X2_1.append(x2_1)\n",
    "        X2_2.append(x2_2)\n",
    "    return np.array(X1_1), np.array(X1_2), np.array(X2_1), np.array(X2_2)"
   ]
  },
  {
   "cell_type": "code",
   "execution_count": 5,
   "id": "leading-exclusive",
   "metadata": {},
   "outputs": [],
   "source": [
    "import tensorflow as tf"
   ]
  },
  {
   "cell_type": "code",
   "execution_count": 6,
   "id": "tropical-series",
   "metadata": {},
   "outputs": [],
   "source": [
    "model = load_model(r'D:\\final_design\\Final_one\\data\\model\\model_match_general5_1.h5',custom_objects=get_custom_objects())"
   ]
  },
  {
   "cell_type": "code",
   "execution_count": 7,
   "id": "capable-circumstances",
   "metadata": {},
   "outputs": [],
   "source": [
    "input_seq = ['龙卷风的英文名是什么？','龙卷风的外文名？']"
   ]
  },
  {
   "cell_type": "code",
   "execution_count": 8,
   "id": "seven-innocent",
   "metadata": {},
   "outputs": [],
   "source": [
    "seq1_1,seq1_2,seq2_1,seq2_2 = get_tokens([input_seq[0]],[input_seq[1]])"
   ]
  },
  {
   "cell_type": "code",
   "execution_count": 9,
   "id": "global-kruger",
   "metadata": {},
   "outputs": [],
   "source": [
    "k = model.predict([seq1_1,seq1_2,seq2_1,seq2_2])"
   ]
  },
  {
   "cell_type": "code",
   "execution_count": 31,
   "id": "adjustable-plaza",
   "metadata": {},
   "outputs": [],
   "source": [
    "k = np.array([[0.9392706 , 0.06072941],[0.9 , 0.06]])"
   ]
  },
  {
   "cell_type": "code",
   "execution_count": 27,
   "id": "recreational-needle",
   "metadata": {},
   "outputs": [
    {
     "data": {
      "text/plain": [
       "array([0.9392706 , 0.06072941])"
      ]
     },
     "execution_count": 27,
     "metadata": {},
     "output_type": "execute_result"
    }
   ],
   "source": [
    "k[0]"
   ]
  },
  {
   "cell_type": "code",
   "execution_count": 33,
   "id": "dedicated-version",
   "metadata": {},
   "outputs": [
    {
     "data": {
      "text/plain": [
       "[0.9392706, 0.9]"
      ]
     },
     "execution_count": 33,
     "metadata": {},
     "output_type": "execute_result"
    }
   ],
   "source": [
    "m = []\n",
    "for i in k:\n",
    "    m.append(i[0])\n",
    "m"
   ]
  },
  {
   "cell_type": "code",
   "execution_count": 7,
   "id": "stretch-nightlife",
   "metadata": {},
   "outputs": [
    {
     "name": "stdout",
     "output_type": "stream",
     "text": [
      "97.33474254608154 %\n"
     ]
    }
   ],
   "source": [
    "input_seq = ['计算机网络是什么？','计算机网络的定义是？']\n",
    "seq1_1,seq1_2,seq2_1,seq2_2 = get_tokens([input_seq[0]],[input_seq[1]])\n",
    "k = model.predict([seq1_1,seq1_2,seq2_1,seq2_2])\n",
    "print(k[0][0]*100,'%')"
   ]
  },
  {
   "cell_type": "code",
   "execution_count": 8,
   "id": "frozen-verse",
   "metadata": {},
   "outputs": [],
   "source": [
    "m = [9,2,1,4,3,6,7,8]"
   ]
  },
  {
   "cell_type": "code",
   "execution_count": 20,
   "id": "effective-circle",
   "metadata": {},
   "outputs": [],
   "source": [
    "l = sorted(m,reverse = 1)\n",
    "#k = m.index(3)"
   ]
  },
  {
   "cell_type": "code",
   "execution_count": 23,
   "id": "aging-stereo",
   "metadata": {},
   "outputs": [
    {
     "name": "stdout",
     "output_type": "stream",
     "text": [
      "7\n"
     ]
    }
   ],
   "source": [
    "print(m.index(l[1]))"
   ]
  },
  {
   "cell_type": "code",
   "execution_count": 27,
   "id": "framed-workstation",
   "metadata": {},
   "outputs": [
    {
     "data": {
      "text/plain": [
       "'计算机网络的定义是？'"
      ]
     },
     "execution_count": 27,
     "metadata": {},
     "output_type": "execute_result"
    }
   ],
   "source": [
    "candidate = ('计算机网络','定义')\n",
    "k = candidate[0]+'的'+candidate[1]+'是？'\n",
    "k"
   ]
  },
  {
   "cell_type": "code",
   "execution_count": null,
   "id": "lesbian-track",
   "metadata": {},
   "outputs": [],
   "source": []
  }
 ],
 "metadata": {
  "kernelspec": {
   "display_name": "Python 3",
   "language": "python",
   "name": "python3"
  },
  "language_info": {
   "codemirror_mode": {
    "name": "ipython",
    "version": 3
   },
   "file_extension": ".py",
   "mimetype": "text/x-python",
   "name": "python",
   "nbconvert_exporter": "python",
   "pygments_lexer": "ipython3",
   "version": "3.7.6"
  }
 },
 "nbformat": 4,
 "nbformat_minor": 5
}
