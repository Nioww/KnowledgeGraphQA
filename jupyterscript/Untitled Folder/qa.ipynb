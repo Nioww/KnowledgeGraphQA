{
 "cells": [
  {
   "cell_type": "code",
   "execution_count": 84,
   "id": "small-tourist",
   "metadata": {},
   "outputs": [
    {
     "name": "stdout",
     "output_type": "stream",
     "text": [
      "loaded\n",
      "WARNING:tensorflow:6 out of the last 11 calls to <function Model.make_predict_function.<locals>.predict_function at 0x00000189EBBB9CA8> triggered tf.function retracing. Tracing is expensive and the excessive number of tracings could be due to (1) creating @tf.function repeatedly in a loop, (2) passing tensors with different shapes, (3) passing Python objects instead of tensors. For (1), please define your @tf.function outside of the loop. For (2), @tf.function has experimental_relax_shapes=True option that relaxes argument shapes that can avoid unnecessary retracing. For (3), please refer to https://www.tensorflow.org/guide/function#controlling_retracing and https://www.tensorflow.org/api_docs/python/tf/function for  more details.\n",
      "['计算机网络', '物理层', '物理层中继系统']\n",
      "bridged_paths [('物理层', 1, 1, '物理层中继系统')]\n",
      "bridged_ques ['物理层和物理层中继系统的相同点是？', '物理层和物理层中继系统的区别是？']\n",
      "0.5\n",
      "<neo4j.work.result.Result object at 0x00000189EA9700C8>\n",
      "jls\n",
      "查询路径: ('物理层', 1, 1, '物理层中继系统')\n",
      "答案: 它们的设备都有集线器。 \n",
      "得分: 0.58831286\n"
     ]
    }
   ],
   "source": [
    "# -*- coding: utf-8 -*-\n",
    "\"\"\"\n",
    "Created on Thu Apr  8 14:37:50 2021\n",
    "\n",
    "@author: HashiriNio\n",
    "\"\"\"\n",
    "\n",
    "#from entity_get import EntityObtainer\n",
    "#from candidate_scoring import candi_scoring\n",
    "#import candidate_get\n",
    "#import sys\n",
    "\n",
    "input_question = '物理层和物理层中继系统有什么共同之处吗？'\n",
    "'''\n",
    "entity_obtainer = EntityObtainer()\n",
    "entities = entity_obtainer.mention_get(input_question)\n",
    "print('得到的mention为:',entities)\n",
    "\n",
    "candidates = []\n",
    "for entity in entities:\n",
    "    candidates += candidate_get.GetPaths(entity)\n",
    "if candidates == []:\n",
    "    sys.exit('没有符合的实体')\n",
    "print(candidates)\n",
    "'''\n",
    "candidates = [('计算机网络', '模型'), ('计算机网络', '模型', '网络结构'),('物理层', '设备', '集线器'),('物理层中继系统', '设备', '集线器')]\n",
    "scorer = candi_scoring()\n",
    "the_path,the_score,mark = scorer.scoring(input_question,candidates)\n",
    "answer = get_answer(the_path,mark)\n",
    "if the_score > 0.45:\n",
    "    print('查询路径:',the_path)\n",
    "    print('答案:',answer,'\\n得分:',str(the_score))\n",
    "else:\n",
    "    print('没有合适的答案')\n"
   ]
  },
  {
   "cell_type": "code",
   "execution_count": 83,
   "id": "powered-wednesday",
   "metadata": {},
   "outputs": [],
   "source": [
    "from neo4j import GraphDatabase\n",
    "driver = GraphDatabase.driver(\"bolt://localhost:7687\",auth=(\"neo4j\",\"123456\"))\n",
    "session = driver.session()\n",
    "\n",
    "def GetPaths(entity):\n",
    "    #entity='物理层'\n",
    "    #一跳路径\n",
    "    query_1 = \"match (a:Entity)-[r1:hasPart]-() where a.name=$name return DISTINCT r1.name\"\n",
    "    result = session.run(query_1,name=entity)\n",
    "    path_one = []\n",
    "    for i in result:\n",
    "        path_one.append((entity,i['r1.name']))\n",
    "    #两跳路径\n",
    "    path_two = []\n",
    "    query_2 = \"match (a:Entity)-[r1:hasPart]-()-[r2:hasPart]->() where a.name=$name return DISTINCT r1.name,r2.name\"\n",
    "    result = session.run(query_2,name=entity)\n",
    "    for i in result:\n",
    "        path_two.append((entity,i['r1.name'],i['r2.name']))\n",
    "    #print(path_one,'\\n',path_two)\n",
    "    return path_one+path_two\n",
    "\n",
    "def bridge(index,candidates):\n",
    "    #得到所有需要桥接的实体\n",
    "    entities = []\n",
    "    for i in range(len(index)):\n",
    "        if candidates[index[i]][0] not in entities:\n",
    "            entities.append(candidates[index[i]][0])\n",
    "    #得到桥接后的路径\n",
    "    print(entities)\n",
    "    paths = []\n",
    "    if len(entities)<2:\n",
    "        return []\n",
    "    else:\n",
    "        query = \"match (a:Entity)-[r1:hasPart]->()<-[r2:hasPart]-(b:Entity) where a.name=$name AND b.name=$name2 return DISTINCT r1.name,r2.name\"\n",
    "        query2 = \"match (a:Entity)<-[r1:hasPart]-()-[r2:hasPart]->(b:Entity) where a.name=$name AND b.name=$name2 return DISTINCT r1.name,r2.name\"\n",
    "        end = len(entities)\n",
    "        for i in range(end-1):\n",
    "            for l in range(i+1,end):\n",
    "                result = session.run(query,name=entities[i],name2 = entities[l])\n",
    "                result2 = session.run(query2,name=entities[i],name2 = entities[l])\n",
    "                for k in result: \n",
    "                    if (entities[i],1,1,entities[l]) not in paths:\n",
    "                        paths.append((entities[i],1,1,entities[l]))\n",
    "                for k in result2:\n",
    "                    if (entities[i],1,1,entities[l]) not in paths:\n",
    "                        paths.append((entities[i],1,1,entities[l]))\n",
    "        return paths\n",
    "\n",
    "def get_answer(path,mark):\n",
    "    if mark == 1:#相异问题\n",
    "        query = \"match (a:Entity)-[r1:hasPart]->(b:Entity) where a.name=$name return DISTINCT r1.name,b.name\"\n",
    "        resulta = session.run(query,name = path[0])\n",
    "        resultb = session.run(query,name = path[3])\n",
    "        ra = {}\n",
    "        for i in resulta:\n",
    "            ra[i['r1.name']] = [i['b.name'],0]\n",
    "        for i in resultb:\n",
    "            if i['r1.name'] in ra.keys():\n",
    "                ra[i['r1.name']][1] = i['b.name']\n",
    "        answer = ''\n",
    "        for i in ra.keys():\n",
    "            answer += path[0]+'的'+i+'是'+ra[i][0]+','+path[3]+'的'+i+'是'+ra[i][1]+'。'\n",
    "        return answer\n",
    "    if len(path) ==2:\n",
    "        query = \"match (a:Entity)-[r1:hasPart]-(b:Entity) where a.name=$name return DISTINCT b.name\"\n",
    "        result = session.run(query,name=path[0])\n",
    "    elif len(path) == 3:#两条\n",
    "        query = \"match (a:Entity)-[r1:hasPart]-()-[r2:hasPart]->(b:Entity) where a.name=$name return DISTINCT b.name\"\n",
    "        result = session.run(query,name=path[0])\n",
    "    else:#桥接的路径解决相同点问题\n",
    "        query = \"match (a:Entity)-[r1:hasPart]->(b:Entity)<-[r2:hasPart]-(c:Entity) where a.name=$name AND c.name=$name2 return DISTINCT r1.name,b.name\"\n",
    "        result = session.run(query,name=path[0],name2 = path[3])\n",
    "        query2 = \"match (a:Entity)<-[r1:hasPart]-(b:Entity)-[r2:hasPart]->(c:Entity) where a.name=$name AND c.name=$name2 return DISTINCT r1.name,b.name\"\n",
    "        result2 = session.run(query2,name=path[0],name2 = path[3])\n",
    "        final_answer = ''\n",
    "        k = ''\n",
    "        for l in result2:\n",
    "            k = '它们都是'+l['b.name']+'的'+l[r1.name]\n",
    "        if k != '':\n",
    "            k += '。'\n",
    "            final_answer += k\n",
    "        count = 0\n",
    "        answer = '它们的'\n",
    "        for i in result:\n",
    "            if count == 0:\n",
    "                answer += i['r1.name']+'都有'+i['b.name']\n",
    "                count += 1\n",
    "            else: \n",
    "                answer += ';'+i['r1.name']+'都有'+i['b.name']#如果有多个答案 \n",
    "        if answer != '它们的':\n",
    "            answer += '。'\n",
    "            final_answer += answer\n",
    "        return final_answer\n",
    "    count = 0\n",
    "    for i in result:\n",
    "        if count == 0:\n",
    "            answer = i['b.name']\n",
    "            count += 1\n",
    "        else: \n",
    "            answer += (';'+i['b.name'])#如果有多个答案\n",
    "    return answer"
   ]
  },
  {
   "cell_type": "code",
   "execution_count": 28,
   "id": "persistent-apple",
   "metadata": {},
   "outputs": [],
   "source": [
    "import numpy as np\n",
    "#import pandas as pd\n",
    "#import pickle\n",
    "from keras_bert import Tokenizer,get_custom_objects\n",
    "import codecs as cs\n",
    "from keras.models import load_model\n",
    "#import candidate_get\n",
    "\n",
    "class candi_scoring():\n",
    "    def __init__(self):\n",
    "        self.max_seq_len = 20\n",
    "        #加载bert字典\n",
    "        dict_path = r'D:\\final_design\\Final_one\\bert\\vocab.txt'\n",
    "        token_dict = {}\n",
    "        with cs.open(dict_path, 'r', 'utf8') as reader:\n",
    "            for line in reader:\n",
    "                token = line.strip()\n",
    "                token_dict[token] = len(token_dict)\n",
    "        self.tokenizer = Tokenizer(token_dict)\n",
    "        #加载评分模型\n",
    "        self.model = load_model(r'D:\\final_design\\Final_one\\data\\model\\model_match_general5_1.h5',custom_objects=get_custom_objects())\n",
    "        print('loaded')\n",
    "    \n",
    "    def get_tokens(self,seq1,seq2):\n",
    "        #seq1为str，seq2为list\n",
    "        X1_1,X1_2,X2_1,X2_2 = [] ,[],[],[]\n",
    "        x1_1,x1_2 = self.tokenizer.encode(first = seq1,max_len = self.max_seq_len)\n",
    "        for i in range(len(seq2)):\n",
    "            #x1_1,x1_2 = self.tokenizer.encode(first = seq1[i],max_len = self.max_seq_len)\n",
    "            x2_1,x2_2 = self.tokenizer.encode(first = seq2[i],max_len = self.max_seq_len)\n",
    "            X1_1.append(x1_1)\n",
    "            X1_2.append(x1_2)\n",
    "            X2_1.append(x2_1)\n",
    "            X2_2.append(x2_2)\n",
    "        \n",
    "        return np.array(X1_1), np.array(X1_2), np.array(X2_1), np.array(X2_2)\n",
    "    \n",
    "    def get_ques(self,candidates):\n",
    "        #candidates = [(,),(,)]\n",
    "        candidate_paths = []\n",
    "        for candidate in candidates:\n",
    "            if len(candidate) == 2:\n",
    "                candidate_paths.append(candidate[0]+'的'+candidate[1]+'是？')\n",
    "            else:\n",
    "                candidate_paths.append(candidate[0]+'的'+candidate[1]+'的'+candidate[2]+'是？')\n",
    "        return candidate_paths\n",
    "    \n",
    "    def get_bridged_ques(self,paths):\n",
    "        #paths = [(x1,r1,r2,x2),()]\n",
    "        bridged_q = []\n",
    "        for path in paths:\n",
    "            bridged_q.append(path[0]+'和'+path[3]+'的相同点是？')\n",
    "            bridged_q.append(path[0]+'和'+path[3]+'的区别是？')\n",
    "        return bridged_q\n",
    "    \n",
    "    def scoring(self,question,candidates):\n",
    "        topk = 5\n",
    "        candidate_ques = self.get_ques(candidates)\n",
    "        in1_1,in1_2,in2_1,in2_2 = self.get_tokens(question,candidate_ques)\n",
    "        score = self.model.predict([in1_1,in1_2,in2_1,in2_2])\n",
    "        score1 = []\n",
    "        for i in score:\n",
    "            score1.append(i[0])\n",
    "        temp = sorted(score1,reverse = 1)\n",
    "        Index = []\n",
    "        for i in range(min(topk,len(temp))):\n",
    "            Index.append(score1.index(temp[i]))\n",
    "        #桥接打分\n",
    "        bridged_paths = bridge(Index,candidates)\n",
    "        #print('bridged_paths',bridged_paths)\n",
    "        if bridged_paths == []:\n",
    "            b_one = 0\n",
    "        else:\n",
    "            bridged_ques = self.get_bridged_ques(bridged_paths)#问题数目是路径的两倍\n",
    "            #print('bridged_ques',bridged_ques)\n",
    "            in1_1,in1_2,in2_1,in2_2 = self.get_tokens(question,bridged_ques)\n",
    "            scoreb = self.model.predict([in1_1,in1_2,in2_1,in2_2])\n",
    "            score2 = []\n",
    "            for i in scoreb:\n",
    "                score2.append(i[0])\n",
    "            tempb = sorted(score2,reverse = 1)\n",
    "            bindex = score2.index(tempb[0])\n",
    "            b_one = tempb[0]\n",
    "        #选择得分最高的路径\n",
    "        mark = 0\n",
    "        if b_one>score1[Index[0]]:\n",
    "            print(bindex/2)\n",
    "            the_path = bridged_paths[int(bindex/2)]\n",
    "            if bindex%2 == 0:\n",
    "                mark = 1\n",
    "            the_score = b_one\n",
    "        else:\n",
    "            the_path = candidates[Index[0]]\n",
    "            the_score = score1[Index[0]]\n",
    "        return the_path,the_score,mark"
   ]
  },
  {
   "cell_type": "code",
   "execution_count": 7,
   "id": "split-strand",
   "metadata": {},
   "outputs": [],
   "source": [
    "i = '好家伙'"
   ]
  },
  {
   "cell_type": "code",
   "execution_count": 8,
   "id": "infinite-longitude",
   "metadata": {},
   "outputs": [
    {
     "data": {
      "text/plain": [
       "'好家伙,你爸爸'"
      ]
     },
     "execution_count": 8,
     "metadata": {},
     "output_type": "execute_result"
    }
   ],
   "source": [
    "i+=(','+'你爸爸')\n",
    "i"
   ]
  },
  {
   "cell_type": "code",
   "execution_count": 10,
   "id": "successful-hazard",
   "metadata": {},
   "outputs": [
    {
     "ename": "TypeError",
     "evalue": "can only concatenate tuple (not \"int\") to tuple",
     "output_type": "error",
     "traceback": [
      "\u001b[1;31m---------------------------------------------------------------------------\u001b[0m",
      "\u001b[1;31mTypeError\u001b[0m                                 Traceback (most recent call last)",
      "\u001b[1;32m<ipython-input-10-a30f6159a648>\u001b[0m in \u001b[0;36m<module>\u001b[1;34m\u001b[0m\n\u001b[0;32m      1\u001b[0m \u001b[0mk\u001b[0m \u001b[1;33m=\u001b[0m \u001b[1;33m(\u001b[0m\u001b[1;36m1\u001b[0m\u001b[1;33m,\u001b[0m\u001b[1;36m2\u001b[0m\u001b[1;33m,\u001b[0m\u001b[1;36m3\u001b[0m\u001b[1;33m,\u001b[0m\u001b[1;36m4\u001b[0m\u001b[1;33m)\u001b[0m\u001b[1;33m\u001b[0m\u001b[1;33m\u001b[0m\u001b[0m\n\u001b[1;32m----> 2\u001b[1;33m \u001b[0mk\u001b[0m\u001b[1;33m+=\u001b[0m\u001b[1;36m5\u001b[0m\u001b[1;33m\u001b[0m\u001b[1;33m\u001b[0m\u001b[0m\n\u001b[0m\u001b[0;32m      3\u001b[0m \u001b[0mk\u001b[0m\u001b[1;33m\u001b[0m\u001b[1;33m\u001b[0m\u001b[0m\n",
      "\u001b[1;31mTypeError\u001b[0m: can only concatenate tuple (not \"int\") to tuple"
     ]
    }
   ],
   "source": [
    "k = (1,2,3,4)\n",
    "k+=5\n",
    "k"
   ]
  },
  {
   "cell_type": "code",
   "execution_count": 11,
   "id": "invisible-facing",
   "metadata": {},
   "outputs": [
    {
     "data": {
      "text/plain": [
       "1"
      ]
     },
     "execution_count": 11,
     "metadata": {},
     "output_type": "execute_result"
    }
   ],
   "source": [
    "3%2"
   ]
  },
  {
   "cell_type": "code",
   "execution_count": 1,
   "id": "forbidden-bottle",
   "metadata": {},
   "outputs": [],
   "source": [
    "r = {}"
   ]
  },
  {
   "cell_type": "code",
   "execution_count": 3,
   "id": "experienced-weather",
   "metadata": {},
   "outputs": [
    {
     "ename": "KeyError",
     "evalue": "'ni'",
     "output_type": "error",
     "traceback": [
      "\u001b[1;31m---------------------------------------------------------------------------\u001b[0m",
      "\u001b[1;31mKeyError\u001b[0m                                  Traceback (most recent call last)",
      "\u001b[1;32m<ipython-input-3-00be8e4df13b>\u001b[0m in \u001b[0;36m<module>\u001b[1;34m\u001b[0m\n\u001b[1;32m----> 1\u001b[1;33m \u001b[0mk\u001b[0m \u001b[1;33m=\u001b[0m \u001b[0mr\u001b[0m\u001b[1;33m[\u001b[0m\u001b[1;34m'ni'\u001b[0m\u001b[1;33m]\u001b[0m\u001b[1;33m\u001b[0m\u001b[1;33m\u001b[0m\u001b[0m\n\u001b[0m",
      "\u001b[1;31mKeyError\u001b[0m: 'ni'"
     ]
    }
   ],
   "source": [
    "k = r['ni']"
   ]
  },
  {
   "cell_type": "code",
   "execution_count": 81,
   "id": "suited-transsexual",
   "metadata": {},
   "outputs": [],
   "source": [
    "query = \"match (a:Entity)-[r1:hasPart]->(b:Entity)<-[r2:hasPart]-(c:Entity) where a.name=$name AND c.name=$name2 return DISTINCT r1.name,b.name\"\n",
    "result = session.run(query,name='物理层',name2 = '物理层中继系统')"
   ]
  },
  {
   "cell_type": "code",
   "execution_count": 67,
   "id": "contemporary-deposit",
   "metadata": {},
   "outputs": [
    {
     "name": "stdout",
     "output_type": "stream",
     "text": [
      "<neo4j.work.result.Result object at 0x00000189D0201188>\n"
     ]
    }
   ],
   "source": [
    "k=list(result)\n",
    "print(result)"
   ]
  },
  {
   "cell_type": "code",
   "execution_count": 68,
   "id": "superb-fight",
   "metadata": {},
   "outputs": [
    {
     "data": {
      "text/plain": [
       "[<Record r1.name='设备' b.name='集线器'>]"
      ]
     },
     "execution_count": 68,
     "metadata": {},
     "output_type": "execute_result"
    }
   ],
   "source": [
    "k"
   ]
  },
  {
   "cell_type": "code",
   "execution_count": 63,
   "id": "spiritual-barbados",
   "metadata": {},
   "outputs": [],
   "source": [
    "final_answer = ''"
   ]
  },
  {
   "cell_type": "code",
   "execution_count": 64,
   "id": "instant-organic",
   "metadata": {},
   "outputs": [],
   "source": [
    "if list(result) != []:\n",
    "    print(result)\n",
    "    count = 0\n",
    "    answer = '它们的'\n",
    "    for i in result:\n",
    "        if count == 0:\n",
    "            print('jls')\n",
    "            answer += i['r1.name']+'都有'+i['b.name']\n",
    "            count += 1\n",
    "        else: \n",
    "            answer += ';'+i['r1.name']+'都有'+i['b.name']#如果有多个答案 \n",
    "    answer += '。'\n",
    "    final_answer += answer"
   ]
  },
  {
   "cell_type": "code",
   "execution_count": 65,
   "id": "placed-hampshire",
   "metadata": {},
   "outputs": [
    {
     "data": {
      "text/plain": [
       "''"
      ]
     },
     "execution_count": 65,
     "metadata": {},
     "output_type": "execute_result"
    }
   ],
   "source": [
    "final_answer"
   ]
  },
  {
   "cell_type": "code",
   "execution_count": 79,
   "id": "transparent-startup",
   "metadata": {},
   "outputs": [
    {
     "name": "stdout",
     "output_type": "stream",
     "text": [
      "<neo4j.work.result.Result object at 0x00000188E40AB388>\n"
     ]
    }
   ],
   "source": [
    "print(result)"
   ]
  },
  {
   "cell_type": "code",
   "execution_count": 75,
   "id": "known-company",
   "metadata": {},
   "outputs": [],
   "source": [
    "k = result"
   ]
  },
  {
   "cell_type": "code",
   "execution_count": 82,
   "id": "hybrid-uganda",
   "metadata": {},
   "outputs": [
    {
     "ename": "TypeError",
     "evalue": "object of type 'Result' has no len()",
     "output_type": "error",
     "traceback": [
      "\u001b[1;31m---------------------------------------------------------------------------\u001b[0m",
      "\u001b[1;31mTypeError\u001b[0m                                 Traceback (most recent call last)",
      "\u001b[1;32m<ipython-input-82-69290ace8698>\u001b[0m in \u001b[0;36m<module>\u001b[1;34m\u001b[0m\n\u001b[1;32m----> 1\u001b[1;33m \u001b[0mlen\u001b[0m\u001b[1;33m(\u001b[0m\u001b[0mresult\u001b[0m\u001b[1;33m)\u001b[0m\u001b[1;33m\u001b[0m\u001b[1;33m\u001b[0m\u001b[0m\n\u001b[0m",
      "\u001b[1;31mTypeError\u001b[0m: object of type 'Result' has no len()"
     ]
    }
   ],
   "source": [
    "len(result)"
   ]
  },
  {
   "cell_type": "code",
   "execution_count": 4,
   "id": "partial-street",
   "metadata": {},
   "outputs": [],
   "source": [
    "from neo4j import GraphDatabase\n",
    "driver = GraphDatabase.driver(\"bolt://localhost:7687\",auth=(\"neo4j\",\"123456\"))\n",
    "session = driver.session()\n",
    "path = ('计算机网络','描述')\n",
    "query = \"match (a:Entity)-[r1:hasPart]->(b:Entity) where a.name=$name AND r1.name=$name2 return DISTINCT b.name\"\n",
    "result = session.run(query,name=path[0],name2=path[1])\n",
    "count = 0\n",
    "for i in result:\n",
    "    if count == 0:\n",
    "        answer = i['b.name']\n",
    "        count += 1\n",
    "    else: \n",
    "        answer += (';'+i['b.name'])#如果有多个答案"
   ]
  },
  {
   "cell_type": "code",
   "execution_count": 5,
   "id": "integrated-courage",
   "metadata": {},
   "outputs": [
    {
     "data": {
      "text/plain": [
       "'计算机网络是指将地理位置不同的具有独立功能的多台计算机及其外部设备，通过通信线路连接起来，在网络操作系统，网络管理软件及网络通信协议的管理和协调下，实现资源共享和信息传递的计算机系统。...'"
      ]
     },
     "execution_count": 5,
     "metadata": {},
     "output_type": "execute_result"
    }
   ],
   "source": [
    "answer"
   ]
  },
  {
   "cell_type": "code",
   "execution_count": null,
   "id": "written-times",
   "metadata": {},
   "outputs": [],
   "source": []
  }
 ],
 "metadata": {
  "kernelspec": {
   "display_name": "Python 3",
   "language": "python",
   "name": "python3"
  },
  "language_info": {
   "codemirror_mode": {
    "name": "ipython",
    "version": 3
   },
   "file_extension": ".py",
   "mimetype": "text/x-python",
   "name": "python",
   "nbconvert_exporter": "python",
   "pygments_lexer": "ipython3",
   "version": "3.7.6"
  }
 },
 "nbformat": 4,
 "nbformat_minor": 5
}
