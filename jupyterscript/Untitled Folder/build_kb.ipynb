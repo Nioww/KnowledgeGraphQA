{
 "cells": [
  {
   "cell_type": "code",
   "execution_count": 1,
   "id": "modular-joseph",
   "metadata": {},
   "outputs": [],
   "source": [
    "import csv\n",
    "import json\n",
    "from tqdm import tqdm\n",
    "import pickle"
   ]
  },
  {
   "cell_type": "code",
   "execution_count": null,
   "id": "vertical-percentage",
   "metadata": {},
   "outputs": [],
   "source": [
    "def build_knowz():\n",
    "    path = r'D:\\pkubase-complete.txt'\n",
    "    #w_path = r'D:\\node.csv'\n",
    "    file = open(path,'r',encoding='utf-8').readlines()\n",
    "    print('数据库原始文件读取完成')\n",
    "    csvf = open(w_path,'w',newline='',encoding = 'utf-8')\n",
    "\n",
    "    w = csv.writer(csvf)\n",
    "    w.writerow((\"id:ID\",\"name\",\":LABEL\"))\n",
    "    idx = 0\n",
    "    entity_dic = dict()\n",
    "    print(len(file))\n",
    "\n",
    "    for i in tqdm(range(len(file))):#tqdm，进度条模块\n",
    "#         if '<类型>' in file[i]:\n",
    "#             continue\n",
    "#2019.8.30这次导入将实体的类型属性也导入数据库中\n",
    "            \n",
    "        entity1 = file[i].split('\\t')[0]\n",
    "        if entity1 not in entity_dic:\n",
    "            idx+=1\n",
    "            entity_dic[entity1]=idx\n",
    "            w.writerow((str(idx),entity1,'Entity'))\n",
    "        \n",
    "        entity2 = file[i].split('\\t')[2].rstrip(' .\\n')\n",
    "        if entity2 not in entity_dic:\n",
    "            idx+=1\n",
    "            entity_dic[entity2] = idx\n",
    "            w.writerow((str(idx),entity2,'Entity'))\n",
    "\n",
    "    print(len(entity_dic))\n",
    "    csvf.close()\n",
    "    return entity_dic#得到node文件，格式：id name ‘ENTITY’"
   ]
  },
  {
   "cell_type": "code",
   "execution_count": 2,
   "id": "regular-gambling",
   "metadata": {},
   "outputs": [
    {
     "name": "stdout",
     "output_type": "stream",
     "text": [
      "数据库原始文件读取完成\n",
      "<美国奥可斯（香港）国际控股集团>\t<类型>\t<文学作品> .\n",
      "\n"
     ]
    }
   ],
   "source": [
    "path = r'D:\\pkubase-complete.txt'\n",
    "    #w_path = r'D:\\node.csv'\n",
    "with open(path,'r',encoding='utf-8') as reader:\n",
    "    print('数据库原始文件读取完成')\n",
    "    k = reader.readlines()\n",
    "    print(k[0])"
   ]
  },
  {
   "cell_type": "code",
   "execution_count": 3,
   "id": "pediatric-spokesman",
   "metadata": {},
   "outputs": [
    {
     "name": "stdout",
     "output_type": "stream",
     "text": [
      "66499746\n"
     ]
    }
   ],
   "source": [
    "print(len(k))#66,499,746"
   ]
  },
  {
   "cell_type": "code",
   "execution_count": 11,
   "id": "similar-merchandise",
   "metadata": {},
   "outputs": [
    {
     "name": "stdout",
     "output_type": "stream",
     "text": [
      "['<韩炳文>\\t<出生日期>\\t\"1966\" .\\n', '<韩炳文>\\t<职业>\\t<美术师> .\\n', '<陕西交通广播>\\t<中文名>\\t\"陕西交通广播\" .\\n', '<陕西交通广播>\\t<报道节目>\\t\"交通类专业节目\" .\\n', '<陕西交通广播>\\t<主持人>\\t<陈博_（游戏《英雄联盟》职业选手）> .\\n', '<沉沦的男男女女们>\\t<中文名>\\t\"沉沦的男男女女们\" .\\n', '<沉沦的男男女女们>\\t<小说进度>\\t<连载> .\\n', '<沉沦的男男女女们>\\t<连载网站>\\t<17k小说网> .\\n', '<蕾舒翠>\\t<中文名>\\t\"蕾舒翠\" .\\n', '<蕾舒翠>\\t<外文名>\\t\"L’HERBOFLORE\" .\\n', '<蕾舒翠>\\t<地区>\\t<台湾_（中国地区）> .\\n', '<蕾舒翠>\\t<具体产品>\\t\"面膜\" .\\n', '<儿童画初级教程2>\\t<书名>\\t\"儿童画初级教程2\" .\\n', '<儿童画初级教程2>\\t<isbn>\\t\"9787539418865\" .\\n', '<儿童画初级教程2>\\t<页数>\\t\"56\" .\\n', '<儿童画初级教程2>\\t<出版社>\\t<长江出版集团> .\\n', '<儿童画初级教程2>\\t<出版时间>\\t\"2006-08-01\" .\\n', '<儿童画初级教程2>\\t<装帧>\\t<平装> .\\n', '<儿童画初级教程2>\\t<开本>\\t\"16\" .\\n', '<A·从卢>\\t<中文名>\\t\"A·从卢\" .\\n', '<A·从卢>\\t<英文名>\\t\"AzadCorlu\" .\\n', '<A·从卢>\\t<国籍>\\t<丹麦> .\\n', '<A·从卢>\\t<出生年月>\\t\"1991年1月31日\" .\\n', '<A·从卢>\\t<身高>\\t\"173厘米\" .\\n', '<驻汉各国领事严守中立布告照>\\t<中文名称>\\t\"驻汉各国领事严守中立布告照\" .\\n', '<驻汉各国领事严守中立布告照>\\t<馆藏地点>\\t<辛亥革命博物馆> .\\n', '<驻汉各国领事严守中立布告照>\\t<所属年代>\\t<清末民初> .\\n', '<驻汉各国领事严守中立布告照>\\t<负责方>\\t<鄂军都督府> .\\n', '<共晶体>\\t<中文名>\\t\"共晶体\" .\\n', '<共晶体>\\t<类型>\\t<合金> .\\n', '<共晶体>\\t<形成方式>\\t<共晶转变> .\\n', '<大别山典型植物图鉴>\\t<书名>\\t\"大别山典型植物图鉴\" .\\n', '<大别山典型植物图鉴>\\t<作者>\\t<刘虹_（中国竞走女运动员）> .\\n', '<大别山典型植物图鉴>\\t<isbn>\\t\"9787560973968\" .\\n', '<大别山典型植物图鉴>\\t<页数>\\t\"221\" .\\n', '<大别山典型植物图鉴>\\t<出版社>\\t<华中科技大学出版社> .\\n', '<大别山典型植物图鉴>\\t<出版时间>\\t\"2011-10-01\" .\\n', '<大别山典型植物图鉴>\\t<装帧>\\t<平装> .\\n', '<大别山典型植物图鉴>\\t<开本>\\t\"16\" .\\n', '<大别山典型植物图鉴>\\t<纸张>\\t<胶版纸> .\\n', '<大别山典型植物图鉴>\\t<印次>\\t\"1\" .\\n', '<大别山典型植物图鉴>\\t<版次>\\t\"1\" .\\n', '<大别山典型植物图鉴>\\t<印刷时间>\\t\"2011-10-01\" .\\n', '<大别山典型植物图鉴>\\t<字数>\\t\"310000\" .\\n', '<置富花园>\\t<中文名>\\t\"置富花园\" .\\n', '<置富花园>\\t<物业类别>\\t<住宅_（专供居住的房屋）> .\\n', '<我本神盗之仓颉>\\t<中文名>\\t\"我本神盗之仓颉\" .\\n', '<我本神盗之仓颉>\\t<小说进度>\\t<连载> .\\n', '<我本神盗之仓颉>\\t<连载网站>\\t<起点_（网站名称）> .\\n', '<乳铁蛋白有机营养米粉>\\t<中文名>\\t\"乳铁蛋白有机营养米粉\" .\\n', '<虫纹阿南鱼>\\t<中文名>\\t\"虫纹阿南鱼\" .\\n', '<虫纹阿南鱼>\\t<外文名>\\t\"不详\" .\\n', '<虫纹阿南鱼>\\t<又称>\\t<蠕纹阿南鱼> .\\n', '<虫纹阿南鱼>\\t<俗名>\\t\"花斑龙、地图龙、烈仔\" .\\n', '<数学中考备考攻略>\\t<书名>\\t\"数学中考备考攻略\" .\\n', '<数学中考备考攻略>\\t<isbn>\\t\"9787562831365\" .\\n', '<数学中考备考攻略>\\t<出版社>\\t<华东理工大学出版社> .\\n', '<长春哈多堡幼稚园>\\t<中文名>\\t\"长春哈多堡幼稚园\" .\\n', '<长春哈多堡幼稚园>\\t<类别>\\t<幼儿园_（学前教育）> .\\n', '<长春哈多堡幼稚园>\\t<占地面积>\\t\"6200平方米\" .\\n', '<长春哈多堡幼稚园>\\t<游乐区和操场>\\t\"达3600平方米\" .\\n', '<浦添>\\t<中文名称>\\t\"浦添\" .\\n', '<浦添>\\t<地位>\\t\"第四大城市\" .\\n', '<浦添>\\t<坐标>\\t\"东经127°43′19\" 北纬26°14′45\" .\\n', '<浙江有感>\\t<作品名称>\\t\"浙江有感\" .\\n', '<浙江有感>\\t<创作年代>\\t<宋_（汉语汉字）> .\\n', '<浙江有感>\\t<文学体裁>\\t<诗词> .\\n', '<浙江有感>\\t<作者>\\t<王回> .\\n', '<超导磁体设计基础>\\t<书名>\\t\"超导磁体设计基础\" .\\n', '<超导磁体设计基础>\\t<定价>\\t\"￥25.00元\" .\\n', '<超导磁体设计基础>\\t<出版社>\\t<国防工业出版社> .\\n', '<超导磁体设计基础>\\t<出版时间>\\t\"2007-11-01\" .\\n', '<超导磁体设计基础>\\t<装帧>\\t<平装> .\\n', '<无刷直流电动机>\\t<中文名>\\t\"无刷直流电动机\" .\\n', '<无刷直流电动机>\\t<别称>\\t<无换向器电动机> .\\n', '<无刷直流电动机>\\t<组成>\\t<同步电机> .\\n', '<无刷直流电动机>\\t<特点>\\t\"结构简单，运行可靠\" .\\n', '<卡瑞克帆船>\\t<中文名>\\t\"卡瑞克帆船\" .\\n', '<卡瑞克帆船>\\t<外文名>\\t\"Carrack\" .\\n', '<卡瑞克帆船>\\t<地区>\\t<地中海_（欧洲、非洲和亚洲大陆之间的一块海域）> .\\n', '<卡瑞克帆船>\\t<类别>\\t<帆船> .\\n', '<自编铃声>\\t<中文名>\\t\"自编铃声\" .\\n', '<自编铃声>\\t<释义>\\t\"自己通过特殊的方法编辑铃声\" .\\n', '<自编铃声>\\t<手机铃声种类>\\t\"MID铃声\" .\\n', '<自编铃声>\\t<手机铃声种类>\\t\"SPMIDI\" .\\n', '<自编铃声>\\t<手机铃声种类>\\t\"WAV铃声\" .\\n', '<自编铃声>\\t<优点>\\t\"通过修改达到自己期望的效果\" .\\n', '<手腕：从护士到美女局长>\\t<中文名>\\t\"手腕:从护士到美女局长\" .\\n', '<手腕：从护士到美女局长>\\t<作者>\\t<欧阳娟_（作家、公务员）> .\\n', '<手腕：从护士到美女局长>\\t<小说进度>\\t<连载> .\\n', '<停车场设施>\\t<中文名>\\t\"停车场设施\" .\\n', '<停车场设施>\\t<设施>\\t<护角> .\\n', '<停车场设施>\\t<设施>\\t<减速带> .\\n', '<冯京旭>\\t<中文名>\\t\"冯京旭\" .\\n', '<冯京旭>\\t<出生日期>\\t\"1942\" .\\n', '<南官房胡同>\\t<中文名>\\t\"南官房胡同\" .\\n', '<南官房胡同>\\t<胡同编号>\\t\"0102XC-60\" .\\n', '<南官房胡同>\\t<建成年代>\\t<不详> .\\n', '<南官房胡同>\\t<保护区>\\t<什刹海历史文化保护区> .\\n', '<子南>\\t<本名>\\t\"芈姓，熊氏\" .\\n']\n"
     ]
    }
   ],
   "source": [
    "print(k[66090600:66090700])"
   ]
  },
  {
   "cell_type": "code",
   "execution_count": 12,
   "id": "juvenile-watts",
   "metadata": {},
   "outputs": [],
   "source": [
    "m = k[:10]"
   ]
  },
  {
   "cell_type": "code",
   "execution_count": 17,
   "id": "accomplished-purse",
   "metadata": {},
   "outputs": [],
   "source": [
    "m = ['<韩炳文>\\t<出生日期>\\t\"1966\" .\\n', '<韩炳文>\\t<职业>\\t<美术师> .\\n', '<陕西交通广播>\\t<中文名>\\t\"陕西交通广播\" .\\n', '<陕西交通广播>\\t<报道节目>\\t\"交通类专业节目\" .\\n', '<陕西交通广播>\\t<主持人>\\t<陈博_（游戏《英雄联盟》职业选手）> .\\n']"
   ]
  },
  {
   "cell_type": "code",
   "execution_count": null,
   "id": "large-testimony",
   "metadata": {},
   "outputs": [],
   "source": [
    "import re\n",
    "kb = {}\n",
    "for m1 in k[:1000000]:\n",
    "    #print(m1)\n",
    "    b = m1.strip().split('\\t')\n",
    "    l1 = []\n",
    "    #print(b)\n",
    "    for t in b:\n",
    "        l = re.findall(r'<(.*?)>|\\\"(.*?)\\\"',t)\n",
    "        #print(l)\n",
    "        for i in l[0]:\n",
    "            if i:\n",
    "                l1.append(i)\n",
    "    if l1[0] not in kb.keys():\n",
    "        kb[l1[0]] = [(l1[1],l1[2])]\n",
    "    else:\n",
    "        kb[l1[0]].append((l1[1],l1[2]))"
   ]
  },
  {
   "cell_type": "code",
   "execution_count": 23,
   "id": "iraqi-equivalent",
   "metadata": {},
   "outputs": [
    {
     "ename": "KeyError",
     "evalue": "0",
     "output_type": "error",
     "traceback": [
      "\u001b[1;31m---------------------------------------------------------------------------\u001b[0m",
      "\u001b[1;31mKeyError\u001b[0m                                  Traceback (most recent call last)",
      "\u001b[1;32m<ipython-input-23-60cfaa588453>\u001b[0m in \u001b[0;36m<module>\u001b[1;34m\u001b[0m\n\u001b[1;32m----> 1\u001b[1;33m \u001b[0mkb\u001b[0m\u001b[1;33m[\u001b[0m\u001b[1;36m0\u001b[0m\u001b[1;33m]\u001b[0m\u001b[1;33m\u001b[0m\u001b[1;33m\u001b[0m\u001b[0m\n\u001b[0m",
      "\u001b[1;31mKeyError\u001b[0m: 0"
     ]
    }
   ],
   "source": []
  },
  {
   "cell_type": "code",
   "execution_count": 1,
   "id": "determined-spouse",
   "metadata": {},
   "outputs": [
    {
     "data": {
      "text/plain": [
       "'<美术师>'"
      ]
     },
     "execution_count": 1,
     "metadata": {},
     "output_type": "execute_result"
    }
   ],
   "source": [
    "m = '<韩炳文>\\t<职业>\\t<美术师> .\\n'\n",
    "k = m.split('\\t')[2].rstrip(' .\\n')\n",
    "k"
   ]
  },
  {
   "cell_type": "code",
   "execution_count": 1,
   "id": "controlling-cargo",
   "metadata": {},
   "outputs": [],
   "source": [
    "import sys"
   ]
  },
  {
   "cell_type": "code",
   "execution_count": 5,
   "id": "documented-snake",
   "metadata": {},
   "outputs": [
    {
     "name": "stdout",
     "output_type": "stream",
     "text": [
      "[1, 2, 3, 4, 5, 3]\n"
     ]
    }
   ],
   "source": [
    "a = [1,2,3]\n",
    "b = [4,5,3]\n",
    "a.extend(b)\n",
    "print(a)"
   ]
  },
  {
   "cell_type": "code",
   "execution_count": null,
   "id": "finnish-latest",
   "metadata": {},
   "outputs": [],
   "source": []
  }
 ],
 "metadata": {
  "kernelspec": {
   "display_name": "Python 3",
   "language": "python",
   "name": "python3"
  },
  "language_info": {
   "codemirror_mode": {
    "name": "ipython",
    "version": 3
   },
   "file_extension": ".py",
   "mimetype": "text/x-python",
   "name": "python",
   "nbconvert_exporter": "python",
   "pygments_lexer": "ipython3",
   "version": "3.7.6"
  }
 },
 "nbformat": 4,
 "nbformat_minor": 5
}
