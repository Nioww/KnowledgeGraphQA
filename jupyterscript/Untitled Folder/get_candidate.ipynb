{
 "cells": [
  {
   "cell_type": "code",
   "execution_count": 1,
   "metadata": {},
   "outputs": [],
   "source": [
    "from neo4j import GraphDatabase"
   ]
  },
  {
   "cell_type": "code",
   "execution_count": 2,
   "metadata": {},
   "outputs": [],
   "source": [
    "driver = GraphDatabase.driver(\"bolt://localhost:7687\",auth=(\"neo4j\",\"123456\"))\n",
    "session = driver.session()"
   ]
  },
  {
   "cell_type": "code",
   "execution_count": 8,
   "metadata": {},
   "outputs": [],
   "source": [
    "def GetPaths(entity):\n",
    "    #entity='物理层'\n",
    "    #一跳路径\n",
    "    query_1 = \"match (a:Entity)-[r1:hasPart]->() where a.name=$name return DISTINCT r1.name\"\n",
    "    result = session.run(query_1,name=entity)\n",
    "    path_one = []\n",
    "    for i in result:\n",
    "        path_one.append((entity,i['r1.name']))\n",
    "    #两跳路径\n",
    "    path_two = []\n",
    "    query_2 = \"match (a:Entity)-[r1:hasPart]-()-[r2:hasPart]->() where a.name=$name return DISTINCT r1.name,r2.name\"\n",
    "    result = session.run(query_2,name=entity)\n",
    "    for i in result:\n",
    "        path_two.append((entity,i['r1.name'],i['r2.name']))\n",
    "    #print(path_one,'\\n',path_two)\n",
    "    return path_one+path_two"
   ]
  },
  {
   "cell_type": "code",
   "execution_count": null,
   "metadata": {},
   "outputs": [],
   "source": [
    "def bridge(index,candidates):\n",
    "    #得到所有需要桥接的实体\n",
    "    entities = []\n",
    "    for i in range(len(index)):\n",
    "        if candidates[index[i]][0] not in entities:\n",
    "            entities.append(candidates[index[i]][0])\n",
    "    #得到桥接后的路径\n",
    "    paths = []\n",
    "    if len(entities)<2:\n",
    "        return []\n",
    "    else:\n",
    "        query = \"match (a:Entity)-[r1:hasPart]->()<-[r2:hasPart]-(b:Entity) where a.name=$name,a.name=$name2 return DISTINCT r1.name,r2.name\"\n",
    "        end = len(entities)\n",
    "        for i in range(end-1):\n",
    "            for l in range(i+1,end):\n",
    "                result = session.run(query,name=entities[i],name2 = entities[l])\n",
    "                for i in result:\n",
    "                    paths.append((entities[i],i['r1.name'],i['r2.name'],entities[l]))\n",
    "        return paths\n",
    "            "
   ]
  },
  {
   "cell_type": "code",
   "execution_count": 23,
   "metadata": {},
   "outputs": [
    {
     "ename": "SyntaxError",
     "evalue": "invalid syntax (<ipython-input-23-8648b508cd2f>, line 1)",
     "output_type": "error",
     "traceback": [
      "\u001b[1;36m  File \u001b[1;32m\"<ipython-input-23-8648b508cd2f>\"\u001b[1;36m, line \u001b[1;32m1\u001b[0m\n\u001b[1;33m    数据链路层中继系统 网桥\u001b[0m\n\u001b[1;37m               ^\u001b[0m\n\u001b[1;31mSyntaxError\u001b[0m\u001b[1;31m:\u001b[0m invalid syntax\n"
     ]
    }
   ],
   "source": [
    "def get_answer(path):\n",
    "    if len(path) ==2:\n",
    "        query = \"match (a:Entity)-[r1:hasPart]-(b:Entity) where a.name=$name return DISTINCT b.name\"\n",
    "        result = session.run(query,name=path[0])\n",
    "    elif len(path) == 3:\n",
    "        query = \"match (a:Entity)-[r1:hasPart]-()-[r2:hasPart]->(b:Entity) where a.name=$name return DISTINCT b.name\"\n",
    "        result = session.run(query,name=path[0])\n",
    "    else:\n",
    "        query = \"match (a:Entity)-[r1:hasPart]->(c:Entity)<-[r2:hasPart]-(b:Entity) where a.name=$name,a.name=$name2 return DISTINCT c.name\"\n",
    "        result = session.run(query,name=path[0],name2 = path[3])\n",
    "    if len(list(result)) == 1:\n",
    "        answer = list(result)[0]\n",
    "    else:\n",
    "        for i in len(list(result)):\n",
    "            if i == 0:\n",
    "                answer = list(result)[i]\n",
    "            else:\n",
    "                answer += ','+list(result)[i]\n",
    "    return answer"
   ]
  },
  {
   "cell_type": "code",
   "execution_count": null,
   "metadata": {},
   "outputs": [],
   "source": []
  },
  {
   "cell_type": "code",
   "execution_count": 9,
   "metadata": {},
   "outputs": [],
   "source": [
    "K = GetPaths('计算机网络')"
   ]
  },
  {
   "cell_type": "code",
   "execution_count": 10,
   "metadata": {},
   "outputs": [
    {
     "data": {
      "text/plain": [
       "[('计算机网络', '类别'),\n",
       " ('计算机网络', '功能'),\n",
       " ('计算机网络', '使用领域'),\n",
       " ('计算机网络', '中文名'),\n",
       " ('计算机网络', '描述'),\n",
       " ('计算机网络', '应用程序'),\n",
       " ('计算机网络', '协议'),\n",
       " ('计算机网络', '设备'),\n",
       " ('计算机网络', '领域', '功能'),\n",
       " ('计算机网络', '领域', '工作进程'),\n",
       " ('计算机网络', '领域', '所属协议'),\n",
       " ('计算机网络', '领域', '外文名'),\n",
       " ('计算机网络', '领域', '中文名'),\n",
       " ('计算机网络', '领域', '描述'),\n",
       " ('计算机网络', '领域', '协议'),\n",
       " ('计算机网络', '领域', '报文'),\n",
       " ('计算机网络', '所属学科', '适用领域'),\n",
       " ('计算机网络', '所属学科', '外文名'),\n",
       " ('计算机网络', '所属学科', '中文名'),\n",
       " ('计算机网络', '所属学科', '描述'),\n",
       " ('计算机网络', '所属学科', '协议'),\n",
       " ('计算机网络', '学科', '作用'),\n",
       " ('计算机网络', '学科', '开始年代'),\n",
       " ('计算机网络', '学科', '属性'),\n",
       " ('计算机网络', '学科', '外文名'),\n",
       " ('计算机网络', '学科', '中文名'),\n",
       " ('计算机网络', '学科', '描述'),\n",
       " ('计算机网络', '学科', '设备'),\n",
       " ('计算机网络', '学科', '学科'),\n",
       " ('计算机网络', '所属行业', '作用'),\n",
       " ('计算机网络', '所属行业', '别名'),\n",
       " ('计算机网络', '所属行业', '外文名'),\n",
       " ('计算机网络', '所属行业', '中文名'),\n",
       " ('计算机网络', '所属行业', '描述'),\n",
       " ('计算机网络', '所属行业', '地址'),\n",
       " ('计算机网络', '所属行业', '设备'),\n",
       " ('计算机网络', '分类', '外文名'),\n",
       " ('计算机网络', '分类', '中文名'),\n",
       " ('计算机网络', '分类', '描述'),\n",
       " ('计算机网络', '分类', '设备'),\n",
       " ('计算机网络', '所属学科', '技术'),\n",
       " ('计算机网络', '所属学科', '报文'),\n",
       " ('计算机网络', '所属学科', '分组'),\n",
       " ('计算机网络', '相关学科', '概念'),\n",
       " ('计算机网络', '相关学科', '分类'),\n",
       " ('计算机网络', '相关学科', '具体'),\n",
       " ('计算机网络', '相关学科', '外文名'),\n",
       " ('计算机网络', '相关学科', '中文名'),\n",
       " ('计算机网络', '相关学科', '描述'),\n",
       " ('计算机网络', '相关学科', '设备'),\n",
       " ('计算机网络', '相关学科', '模型'),\n",
       " ('计算机网络', '所属垂类', '功能'),\n",
       " ('计算机网络', '所属垂类', '外文名'),\n",
       " ('计算机网络', '所属垂类', '中文名'),\n",
       " ('计算机网络', '所属垂类', '描述'),\n",
       " ('计算机网络', '所属垂类', '网络结构'),\n",
       " ('计算机网络', '领域', '设备'),\n",
       " ('计算机网络', '领域', '模型'),\n",
       " ('计算机网络', '使用领域', '互联网域名'),\n",
       " ('计算机网络', '使用领域', '分类'),\n",
       " ('计算机网络', '使用领域', '开创时间'),\n",
       " ('计算机网络', '使用领域', '起源'),\n",
       " ('计算机网络', '使用领域', '定义'),\n",
       " ('计算机网络', '使用领域', '外文名'),\n",
       " ('计算机网络', '使用领域', '中文名'),\n",
       " ('计算机网络', '使用领域', '描述'),\n",
       " ('计算机网络', '使用领域', '设备'),\n",
       " ('计算机网络', '中文名', '类别'),\n",
       " ('计算机网络', '中文名', '功能'),\n",
       " ('计算机网络', '中文名', '使用领域'),\n",
       " ('计算机网络', '中文名', '描述'),\n",
       " ('计算机网络', '中文名', '应用程序'),\n",
       " ('计算机网络', '中文名', '协议'),\n",
       " ('计算机网络', '中文名', '设备'),\n",
       " ('计算机网络', '应用程序', '注音'),\n",
       " ('计算机网络', '应用程序', '汉语拼音'),\n",
       " ('计算机网络', '应用程序', '开发语言'),\n",
       " ('计算机网络', '应用程序', '应用类别'),\n",
       " ('计算机网络', '应用程序', '外文名'),\n",
       " ('计算机网络', '应用程序', '设备'),\n",
       " ('计算机网络', '应用程序', '中文名'),\n",
       " ('计算机网络', '应用程序', '描述'),\n",
       " ('计算机网络', '协议', '外文名'),\n",
       " ('计算机网络', '协议', '中文名'),\n",
       " ('计算机网络', '协议', '描述'),\n",
       " ('计算机网络', '设备', '发明者'),\n",
       " ('计算机网络', '设备', '第一台计算机'),\n",
       " ('计算机网络', '设备', '时间'),\n",
       " ('计算机网络', '设备', '别名'),\n",
       " ('计算机网络', '设备', '外文名'),\n",
       " ('计算机网络', '设备', '设备'),\n",
       " ('计算机网络', '设备', '应用程序'),\n",
       " ('计算机网络', '设备', '中文名'),\n",
       " ('计算机网络', '设备', '描述'),\n",
       " ('计算机网络', '别名', '主干网应用'),\n",
       " ('计算机网络', '别名', '中间层网应用'),\n",
       " ('计算机网络', '别名', '底层网应用'),\n",
       " ('计算机网络', '别名', '层次'),\n",
       " ('计算机网络', '别名', '起源地'),\n",
       " ('计算机网络', '别名', '外文名'),\n",
       " ('计算机网络', '别名', '中文名'),\n",
       " ('计算机网络', '别名', '描述'),\n",
       " ('计算机网络', '别名', '设备')]"
      ]
     },
     "execution_count": 10,
     "metadata": {},
     "output_type": "execute_result"
    }
   ],
   "source": [
    "K"
   ]
  },
  {
   "cell_type": "code",
   "execution_count": null,
   "metadata": {},
   "outputs": [],
   "source": []
  },
  {
   "cell_type": "code",
   "execution_count": null,
   "metadata": {},
   "outputs": [],
   "source": []
  }
 ],
 "metadata": {
  "kernelspec": {
   "display_name": "Python 3",
   "language": "python",
   "name": "python3"
  },
  "language_info": {
   "codemirror_mode": {
    "name": "ipython",
    "version": 3
   },
   "file_extension": ".py",
   "mimetype": "text/x-python",
   "name": "python",
   "nbconvert_exporter": "python",
   "pygments_lexer": "ipython3",
   "version": "3.7.6"
  }
 },
 "nbformat": 4,
 "nbformat_minor": 4
}
