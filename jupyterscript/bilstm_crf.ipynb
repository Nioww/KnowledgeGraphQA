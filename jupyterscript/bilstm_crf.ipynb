{
 "cells": [
  {
   "cell_type": "code",
   "execution_count": 1,
   "metadata": {},
   "outputs": [],
   "source": [
    "import pandas as pd\n",
    "import numpy as np"
   ]
  },
  {
   "cell_type": "code",
   "execution_count": 15,
   "metadata": {},
   "outputs": [
    {
     "data": {
      "text/html": [
       "<div>\n",
       "<style scoped>\n",
       "    .dataframe tbody tr th:only-of-type {\n",
       "        vertical-align: middle;\n",
       "    }\n",
       "\n",
       "    .dataframe tbody tr th {\n",
       "        vertical-align: top;\n",
       "    }\n",
       "\n",
       "    .dataframe thead th {\n",
       "        text-align: right;\n",
       "    }\n",
       "</style>\n",
       "<table border=\"1\" class=\"dataframe\">\n",
       "  <thead>\n",
       "    <tr style=\"text-align: right;\">\n",
       "      <th></th>\n",
       "      <th>text</th>\n",
       "      <th>tag</th>\n",
       "    </tr>\n",
       "  </thead>\n",
       "  <tbody>\n",
       "    <tr>\n",
       "      <th>0</th>\n",
       "      <td>将 军 百 战 死</td>\n",
       "      <td>B I B I S</td>\n",
       "    </tr>\n",
       "    <tr>\n",
       "      <th>1</th>\n",
       "      <td>将 军 队 带 上 战 场</td>\n",
       "      <td>S B I B I B I</td>\n",
       "    </tr>\n",
       "    <tr>\n",
       "      <th>2</th>\n",
       "      <td>将 将 军 带 上 战 车</td>\n",
       "      <td>S B I B I B I</td>\n",
       "    </tr>\n",
       "    <tr>\n",
       "      <th>3</th>\n",
       "      <td>军 战 将 军</td>\n",
       "      <td>S S B I</td>\n",
       "    </tr>\n",
       "    <tr>\n",
       "      <th>4</th>\n",
       "      <td>将 军 战 将 军</td>\n",
       "      <td>S S S B I</td>\n",
       "    </tr>\n",
       "    <tr>\n",
       "      <th>5</th>\n",
       "      <td>将 军 战 将 军</td>\n",
       "      <td>B I S B I</td>\n",
       "    </tr>\n",
       "  </tbody>\n",
       "</table>\n",
       "</div>"
      ],
      "text/plain": [
       "            text            tag\n",
       "0      将 军 百 战 死      B I B I S\n",
       "1  将 军 队 带 上 战 场  S B I B I B I\n",
       "2  将 将 军 带 上 战 车  S B I B I B I\n",
       "3        军 战 将 军        S S B I\n",
       "4      将 军 战 将 军      S S S B I\n",
       "5      将 军 战 将 军      B I S B I"
      ]
     },
     "execution_count": 15,
     "metadata": {},
     "output_type": "execute_result"
    }
   ],
   "source": [
    "path = r'C:\\Users\\HashiriNio\\Desktop\\BiLSTM-CRF-master\\data\\test.csv'\n",
    "data = pd.read_csv(path)\n",
    "data"
   ]
  },
  {
   "cell_type": "code",
   "execution_count": 16,
   "metadata": {},
   "outputs": [
    {
     "data": {
      "text/html": [
       "<div>\n",
       "<style scoped>\n",
       "    .dataframe tbody tr th:only-of-type {\n",
       "        vertical-align: middle;\n",
       "    }\n",
       "\n",
       "    .dataframe tbody tr th {\n",
       "        vertical-align: top;\n",
       "    }\n",
       "\n",
       "    .dataframe thead th {\n",
       "        text-align: right;\n",
       "    }\n",
       "</style>\n",
       "<table border=\"1\" class=\"dataframe\">\n",
       "  <thead>\n",
       "    <tr style=\"text-align: right;\">\n",
       "      <th></th>\n",
       "      <th>text</th>\n",
       "      <th>tag</th>\n",
       "    </tr>\n",
       "  </thead>\n",
       "  <tbody>\n",
       "    <tr>\n",
       "      <th>0</th>\n",
       "      <td>将 军 百 战 死 &lt;end&gt;</td>\n",
       "      <td>B I B I S END</td>\n",
       "    </tr>\n",
       "    <tr>\n",
       "      <th>1</th>\n",
       "      <td>将 军 队 带 上 战 场 &lt;end&gt;</td>\n",
       "      <td>S B I B I B I END</td>\n",
       "    </tr>\n",
       "    <tr>\n",
       "      <th>2</th>\n",
       "      <td>将 将 军 带 上 战 车 &lt;end&gt;</td>\n",
       "      <td>S B I B I B I END</td>\n",
       "    </tr>\n",
       "    <tr>\n",
       "      <th>3</th>\n",
       "      <td>军 战 将 军 &lt;end&gt;</td>\n",
       "      <td>S S B I END</td>\n",
       "    </tr>\n",
       "    <tr>\n",
       "      <th>4</th>\n",
       "      <td>将 军 战 将 军 &lt;end&gt;</td>\n",
       "      <td>S S S B I END</td>\n",
       "    </tr>\n",
       "    <tr>\n",
       "      <th>5</th>\n",
       "      <td>将 军 战 将 军 &lt;end&gt;</td>\n",
       "      <td>B I S B I END</td>\n",
       "    </tr>\n",
       "  </tbody>\n",
       "</table>\n",
       "</div>"
      ],
      "text/plain": [
       "                  text                tag\n",
       "0      将 军 百 战 死 <end>      B I B I S END\n",
       "1  将 军 队 带 上 战 场 <end>  S B I B I B I END\n",
       "2  将 将 军 带 上 战 车 <end>  S B I B I B I END\n",
       "3        军 战 将 军 <end>        S S B I END\n",
       "4      将 军 战 将 军 <end>      S S S B I END\n",
       "5      将 军 战 将 军 <end>      B I S B I END"
      ]
     },
     "execution_count": 16,
     "metadata": {},
     "output_type": "execute_result"
    }
   ],
   "source": [
    "data['text'] = data['text'].apply(lambda x:x +' <end>')\n",
    "data['tag'] = data['tag'].apply(lambda x:x + ' END')\n",
    "data"
   ]
  },
  {
   "cell_type": "code",
   "execution_count": 17,
   "metadata": {},
   "outputs": [],
   "source": [
    "myDf = data\n",
    "wordIndexDict={\"<pad>\":0}\n",
    "wi=1\n",
    "for row in myDf[\"text\"].values.tolist():\n",
    "   # if type(row)==float:\n",
    "    #    print(row)\n",
    "     #   break\n",
    "    for word in row.split(\" \"):\n",
    "        if word not in wordIndexDict:\n",
    "            wordIndexDict[word]=wi\n",
    "            wi+=1\n",
    "vocabSize=wi\n"
   ]
  },
  {
   "cell_type": "code",
   "execution_count": 18,
   "metadata": {},
   "outputs": [
    {
     "data": {
      "text/plain": [
       "{'<pad>': 0,\n",
       " '将': 1,\n",
       " '军': 2,\n",
       " '百': 3,\n",
       " '战': 4,\n",
       " '死': 5,\n",
       " '<end>': 6,\n",
       " '队': 7,\n",
       " '带': 8,\n",
       " '上': 9,\n",
       " '场': 10,\n",
       " '车': 11}"
      ]
     },
     "execution_count": 18,
     "metadata": {},
     "output_type": "execute_result"
    }
   ],
   "source": [
    "wordIndexDict"
   ]
  },
  {
   "cell_type": "code",
   "execution_count": 19,
   "metadata": {},
   "outputs": [
    {
     "data": {
      "text/html": [
       "<div>\n",
       "<style scoped>\n",
       "    .dataframe tbody tr th:only-of-type {\n",
       "        vertical-align: middle;\n",
       "    }\n",
       "\n",
       "    .dataframe tbody tr th {\n",
       "        vertical-align: top;\n",
       "    }\n",
       "\n",
       "    .dataframe thead th {\n",
       "        text-align: right;\n",
       "    }\n",
       "</style>\n",
       "<table border=\"1\" class=\"dataframe\">\n",
       "  <thead>\n",
       "    <tr style=\"text-align: right;\">\n",
       "      <th></th>\n",
       "      <th>text</th>\n",
       "      <th>tag</th>\n",
       "    </tr>\n",
       "  </thead>\n",
       "  <tbody>\n",
       "    <tr>\n",
       "      <th>0</th>\n",
       "      <td>将 军 百 战 死 &lt;end&gt;</td>\n",
       "      <td>B I B I S END</td>\n",
       "    </tr>\n",
       "    <tr>\n",
       "      <th>1</th>\n",
       "      <td>将 军 队 带 上 战 场 &lt;end&gt;</td>\n",
       "      <td>S B I B I B I END</td>\n",
       "    </tr>\n",
       "    <tr>\n",
       "      <th>2</th>\n",
       "      <td>将 将 军 带 上 战 车 &lt;end&gt;</td>\n",
       "      <td>S B I B I B I END</td>\n",
       "    </tr>\n",
       "    <tr>\n",
       "      <th>3</th>\n",
       "      <td>军 战 将 军 &lt;end&gt;</td>\n",
       "      <td>S S B I END</td>\n",
       "    </tr>\n",
       "    <tr>\n",
       "      <th>4</th>\n",
       "      <td>将 军 战 将 军 &lt;end&gt;</td>\n",
       "      <td>S S S B I END</td>\n",
       "    </tr>\n",
       "    <tr>\n",
       "      <th>5</th>\n",
       "      <td>将 军 战 将 军 &lt;end&gt;</td>\n",
       "      <td>B I S B I END</td>\n",
       "    </tr>\n",
       "  </tbody>\n",
       "</table>\n",
       "</div>"
      ],
      "text/plain": [
       "                  text                tag\n",
       "0      将 军 百 战 死 <end>      B I B I S END\n",
       "1  将 军 队 带 上 战 场 <end>  S B I B I B I END\n",
       "2  将 将 军 带 上 战 车 <end>  S B I B I B I END\n",
       "3        军 战 将 军 <end>        S S B I END\n",
       "4      将 军 战 将 军 <end>      S S S B I END\n",
       "5      将 军 战 将 军 <end>      B I S B I END"
      ]
     },
     "execution_count": 19,
     "metadata": {},
     "output_type": "execute_result"
    }
   ],
   "source": [
    "import re\n",
    "\n",
    "myDf[\"tag\"]=myDf[\"tag\"].apply(lambda x:re.sub(\"\\-\\S+\",\"\",x))\n",
    "myDf"
   ]
  },
  {
   "cell_type": "code",
   "execution_count": 20,
   "metadata": {},
   "outputs": [
    {
     "name": "stderr",
     "output_type": "stream",
     "text": [
      "100%|██████████| 6/6 [00:00<?, ?it/s]\n"
     ]
    },
    {
     "data": {
      "text/plain": [
       "array([[1, 2, 1, 2, 3, 4, 0, 0],\n",
       "       [3, 1, 2, 1, 2, 1, 2, 4],\n",
       "       [3, 1, 2, 1, 2, 1, 2, 4],\n",
       "       [3, 3, 1, 2, 4, 0, 0, 0],\n",
       "       [3, 3, 3, 1, 2, 4, 0, 0],\n",
       "       [1, 2, 3, 1, 2, 4, 0, 0]])"
      ]
     },
     "execution_count": 20,
     "metadata": {},
     "output_type": "execute_result"
    }
   ],
   "source": [
    "import tqdm\n",
    "maxLen = 8\n",
    "tagIndexDict = {\"PAD\": 0}\n",
    "ti = 1\n",
    "for row in tqdm.tqdm(myDf[\"tag\"].values.tolist()):\n",
    "    for tag in row.split(\" \"):\n",
    "        if tag not in tagIndexDict:\n",
    "            tagIndexDict[tag] = ti\n",
    "            ti += 1\n",
    "tagSum = len(list(tagIndexDict.keys()))\n",
    "myDf[\"tag\"] = myDf[\"tag\"].apply(lambda x:x.split()+[\"PAD\" for i in range(maxLen-len(x.split()))])\n",
    "myDf[\"tag\"] = myDf[\"tag\"].apply(lambda x:[tagIndexDict[tagItem] for tagItem in x])\n",
    "# myDf[\"tag\"] = myDf[\"tag\"].apply(lambda x: [[0 if tagI != tagIndexDict[tagItem] else 1\n",
    "#                                             for tagI in range(len(tagIndexDict))]\n",
    "#                                             for tagItem in x])\n",
    "y=np.array(myDf[\"tag\"].values.tolist())\n",
    "y"
   ]
  },
  {
   "cell_type": "code",
   "execution_count": 21,
   "metadata": {},
   "outputs": [
    {
     "data": {
      "text/plain": [
       "(6, 8)"
      ]
     },
     "execution_count": 21,
     "metadata": {},
     "output_type": "execute_result"
    }
   ],
   "source": [
    "y.shape"
   ]
  },
  {
   "cell_type": "code",
   "execution_count": 26,
   "metadata": {},
   "outputs": [
    {
     "data": {
      "text/plain": [
       "['将 军 百 战 死 <end>',\n",
       " '将 军 队 带 上 战 场 <end>',\n",
       " '将 将 军 带 上 战 车 <end>',\n",
       " '军 战 将 军 <end>',\n",
       " '将 军 战 将 军 <end>',\n",
       " '将 军 战 将 军 <end>']"
      ]
     },
     "execution_count": 26,
     "metadata": {},
     "output_type": "execute_result"
    }
   ],
   "source": [
    "maxLen=max(len(row) for row in myDf[\"text\"].values.tolist())\n"
   ]
  },
  {
   "cell_type": "code",
   "execution_count": 23,
   "metadata": {},
   "outputs": [
    {
     "data": {
      "text/plain": [
       "19"
      ]
     },
     "execution_count": 23,
     "metadata": {},
     "output_type": "execute_result"
    }
   ],
   "source": [
    "maxLen"
   ]
  },
  {
   "cell_type": "code",
   "execution_count": 27,
   "metadata": {},
   "outputs": [
    {
     "data": {
      "text/plain": [
       "19"
      ]
     },
     "execution_count": 27,
     "metadata": {},
     "output_type": "execute_result"
    }
   ],
   "source": [
    "len(myDf[\"text\"].values.tolist()[2])"
   ]
  },
  {
   "cell_type": "code",
   "execution_count": 35,
   "metadata": {},
   "outputs": [],
   "source": [
    "a = np.array([\n",
    "              [\n",
    "                  [1, 5, 5, 2],\n",
    "                  [9, -6, 2, 8],\n",
    "                  [-3, 7, -9, 1]\n",
    "              ],\n",
    " \n",
    "              [\n",
    "                  [-1, 7, -5, 3],\n",
    "                  [9, 6, 2, 8],\n",
    "                  [3, 7, 9, 1]\n",
    "              ],\n",
    "            [\n",
    "                  [21, 6, -5, 2],\n",
    "                  [9, 36, 2, 8],\n",
    "                  [3, 7, 79, 1]\n",
    "              ]\n",
    "            ])"
   ]
  },
  {
   "cell_type": "code",
   "execution_count": 37,
   "metadata": {},
   "outputs": [
    {
     "data": {
      "text/plain": [
       "array([[1, 0, 1],\n",
       "       [1, 0, 2],\n",
       "       [0, 1, 2]], dtype=int64)"
      ]
     },
     "execution_count": 37,
     "metadata": {},
     "output_type": "execute_result"
    }
   ],
   "source": [
    "b = np.argmax(a,2)\n",
    "b"
   ]
  },
  {
   "cell_type": "code",
   "execution_count": 42,
   "metadata": {},
   "outputs": [
    {
     "data": {
      "text/plain": [
       "<tf.Tensor: id=3, shape=(4,), dtype=float32, numpy=array([0.01685873, 0.04582679, 0.9204557 , 0.01685873], dtype=float32)>"
      ]
     },
     "execution_count": 42,
     "metadata": {},
     "output_type": "execute_result"
    }
   ],
   "source": [
    "import tensorflow as tf\n",
    "x = tf.constant([1.,2.,5.,1.])\n",
    "tf.nn.softmax(x)"
   ]
  },
  {
   "cell_type": "code",
   "execution_count": null,
   "metadata": {},
   "outputs": [],
   "source": []
  }
 ],
 "metadata": {
  "kernelspec": {
   "display_name": "Python 3",
   "language": "python",
   "name": "python3"
  },
  "language_info": {
   "codemirror_mode": {
    "name": "ipython",
    "version": 3
   },
   "file_extension": ".py",
   "mimetype": "text/x-python",
   "name": "python",
   "nbconvert_exporter": "python",
   "pygments_lexer": "ipython3",
   "version": "3.7.7"
  }
 },
 "nbformat": 4,
 "nbformat_minor": 4
}
